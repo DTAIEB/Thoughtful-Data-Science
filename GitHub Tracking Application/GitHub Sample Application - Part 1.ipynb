{
 "cells": [
  {
   "cell_type": "markdown",
   "metadata": {},
   "source": [
    "# GitHub Tracking Application Part 1"
   ]
  },
  {
   "cell_type": "code",
   "execution_count": 1,
   "metadata": {
    "pixiedust": {
     "displayParams": {}
    }
   },
   "outputs": [
    {
     "data": {
      "text/html": [
       "<style type=\"text/css\">.pd_warning{display:none;}</style><div class=\"pd_warning\"><em>Hey, there's something awesome here! To see it, open this notebook outside GitHub, in a viewer like Jupyter</em></div>"
      ],
      "text/plain": [
       "<IPython.core.display.HTML object>"
      ]
     },
     "metadata": {},
     "output_type": "display_data"
    }
   ],
   "source": [
    "from pixiedust.display.app import *\n",
    "import requests\n",
    "import pandas\n",
    "\n",
    "@PixieApp\n",
    "class GitHubTracking():\n",
    "    @route()\n",
    "    def main_screen(self):\n",
    "        return \"\"\"\n",
    "<style>\n",
    "    div.outer-wrapper {\n",
    "        display: table;width:100%;height:300px;\n",
    "    }\n",
    "    div.inner-wrapper {\n",
    "        display: table-cell;vertical-align: middle;height: 100%;width: 100%;\n",
    "    }\n",
    "</style>\n",
    "<div class=\"outer-wrapper\">\n",
    "    <div class=\"inner-wrapper\">\n",
    "        <div class=\"col-sm-3\"></div>\n",
    "        <div class=\"input-group col-sm-6\">\n",
    "          <input id=\"query{{prefix}}\" type=\"text\" class=\"form-control\" placeholder=\"Search projects on GitHub\">\n",
    "          <span class=\"input-group-btn\">\n",
    "            <button class=\"btn btn-default\" type=\"button\" pd_options=\"query=$val(query{{prefix}})\">Submit Query</button>\n",
    "          </span>\n",
    "        </div>\n",
    "    </div>\n",
    "</div>   \n",
    "\"\"\"\n",
    "    @route(query=\"*\")\n",
    "    @templateArgs\n",
    "    def do_search(self, query):\n",
    "        self.first_url = \"https://api.github.com/search/repositories?q={}\".format(query)\n",
    "        self.prev_url = None\n",
    "        self.next_url = None\n",
    "        self.last_url = None\n",
    "        \n",
    "        response = requests.get(self.first_url)\n",
    "        if not response.ok:\n",
    "            return \"<div>An Error occurred: {{response.text}}</div>\"\n",
    "\n",
    "        total_count = response.json()['total_count']\n",
    "        self.next_url = response.links.get('next', {}).get('url', None)\n",
    "        self.last_url = response.links.get('last', {}).get('url', None)\n",
    "        return \"\"\"\n",
    "<h1><center>{{total_count}} repositories were found</center></h1>\n",
    "<ul class=\"pagination\">\n",
    "  <li><a href=\"#\" pd_options=\"page=first_url\" pd_target=\"body{{prefix}}\">First</a></li>\n",
    "  <li><a href=\"#\" pd_options=\"page=prev_url\" pd_target=\"body{{prefix}}\">Prev</a></li>\n",
    "  <li><a href=\"#\" pd_options=\"page=next_url\" pd_target=\"body{{prefix}}\">Next</a></li>\n",
    "  <li><a href=\"#\" pd_options=\"page=last_url\" pd_target=\"body{{prefix}}\">Last</a></li>\n",
    "</ul>\n",
    "<table class=\"table\">\n",
    "    <thead>\n",
    "        <tr>\n",
    "            <th>Repo Name</th>\n",
    "            <th>Lastname</th>\n",
    "            <th>URL</th>\n",
    "            <th>Stars</th>\n",
    "        </tr>\n",
    "    </thead>\n",
    "    <tbody id=\"body{{prefix}}\">\n",
    "        {{this.invoke_route(this.do_retrieve_page, page='first_url')}}\n",
    "    </tbody>\n",
    "</table>\n",
    "\"\"\"\n",
    "    @route(page=\"*\")\n",
    "    @templateArgs\n",
    "    def do_retrieve_page(self, page):\n",
    "        url = getattr(self, page)\n",
    "        if url is None:\n",
    "            return \"<div>No more rows</div>\"\n",
    "        response = requests.get(url)\n",
    "        self.prev_url = response.links.get('prev', {}).get('url', None)\n",
    "        self.next_url = response.links.get('next', {}).get('url', None)\n",
    "        items = response.json()['items']\n",
    "        return \"\"\"\n",
    "{%for row in items%}\n",
    "<tr>\n",
    "    <td>{{row['name']}}</td>\n",
    "    <td>{{row.get('owner',{}).get('login', 'N/A')}}</td>\n",
    "    <td><a href=\"{{row['html_url']}}\" target=\"_blank\">{{row['html_url']}}</a></td>\n",
    "    <td>{{row['stargazers_count']}}</td>\n",
    "</tr>\n",
    "{%endfor%}\n",
    "        \"\"\"\n",
    "\n",
    "app = GitHubTracking()\n",
    "app.run()"
   ]
  }
 ],
 "metadata": {
  "kernelspec": {
   "display_name": "Python 3",
   "language": "python",
   "name": "python3"
  },
  "language_info": {
   "codemirror_mode": {
    "name": "ipython",
    "version": 3
   },
   "file_extension": ".py",
   "mimetype": "text/x-python",
   "name": "python",
   "nbconvert_exporter": "python",
   "pygments_lexer": "ipython3",
   "version": "3.5.4"
  }
 },
 "nbformat": 4,
 "nbformat_minor": 2
}
