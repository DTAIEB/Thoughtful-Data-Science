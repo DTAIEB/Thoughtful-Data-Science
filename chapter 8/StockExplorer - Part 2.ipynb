{
 "cells": [
  {
   "cell_type": "markdown",
   "metadata": {},
   "source": [
    "# StockExplorer PixieApp Part 2 - Time Series Forecasting with ARIMA model\n",
    "## We start by installing quandl and statsmodels library if necessary"
   ]
  },
  {
   "cell_type": "code",
   "execution_count": null,
   "metadata": {},
   "outputs": [],
   "source": [
    "# !pip install quandl"
   ]
  },
  {
   "cell_type": "code",
   "execution_count": null,
   "metadata": {},
   "outputs": [],
   "source": [
    "# !pip install statsmodels"
   ]
  },
  {
   "cell_type": "markdown",
   "metadata": {},
   "source": [
    "## Import a few modules and optionally set the quandl API key"
   ]
  },
  {
   "cell_type": "code",
   "execution_count": null,
   "metadata": {},
   "outputs": [],
   "source": [
    "import pixiedust\n",
    "from pixiedust.display.app import *\n",
    "import numpy as np\n",
    "import pandas as pd\n",
    "import matplotlib.pyplot as plt\n",
    "import quandl\n",
    "\n",
    "#Comment the line below if you don't have a Quandl API Key\n",
    "#To get an API key, go to https://www.quandl.com\n",
    "quandl.ApiConfig.api_key = \"XXXX\""
   ]
  },
  {
   "cell_type": "markdown",
   "metadata": {},
   "source": [
    "## Download the stock data for MSFT and display a bokeh line chart of the Time Serie"
   ]
  },
  {
   "cell_type": "code",
   "execution_count": null,
   "metadata": {},
   "outputs": [],
   "source": [
    "msft = quandl.get('WIKI/MSFT')\n",
    "msft['daily_spread'] = msft['Adj. Close'].diff()\n",
    "msft = msft.reset_index()"
   ]
  },
  {
   "cell_type": "code",
   "execution_count": null,
   "metadata": {
    "pixiedust": {
     "displayParams": {
      "handlerId": "lineChart",
      "keyFields": "Date",
      "rowCount": "10000",
      "title": "MSFT Price Chart",
      "valueFields": "Adj. Close"
     }
    }
   },
   "outputs": [],
   "source": [
    "display(msft)"
   ]
  },
  {
   "cell_type": "markdown",
   "metadata": {},
   "source": [
    "## Build an ARIMA model"
   ]
  },
  {
   "cell_type": "code",
   "execution_count": null,
   "metadata": {},
   "outputs": [],
   "source": [
    "train_set, test_set = msft[:-14], msft[-14:]"
   ]
  },
  {
   "cell_type": "code",
   "execution_count": null,
   "metadata": {
    "pixiedust": {
     "displayParams": {
      "handlerId": "lineChart",
      "keyFields": "Date",
      "rowCount": "10000",
      "valueFields": "Adj. Close"
     }
    }
   },
   "outputs": [],
   "source": [
    "logmsft = np.log(train_set['Adj. Close'])\n",
    "logmsft.index = train_set['Date']\n",
    "logmsft_diff = pd.DataFrame(logmsft - logmsft.shift()).reset_index()\n",
    "logmsft_diff.dropna(inplace=True)\n",
    "display(logmsft_diff)"
   ]
  },
  {
   "cell_type": "markdown",
   "metadata": {},
   "source": [
    "## Apply the Dickey-Fuller test for stationarity"
   ]
  },
  {
   "cell_type": "code",
   "execution_count": null,
   "metadata": {},
   "outputs": [],
   "source": [
    "from statsmodels.tsa.stattools import adfuller\n",
    "import pprint\n",
    "\n",
    "ad_fuller_results = adfuller(\n",
    "    logmsft_diff['Adj. Close'], autolag = 'AIC', regression = 'c')\n",
    "labels = ['Test Statistic','MacKinnon’s approximate p-value','Number of lags used','Number of Observations Used']\n",
    "pp = pprint.PrettyPrinter(indent=4)\n",
    "pp.pprint({labels[i]: ad_fuller_results[i] for i in range(4)})"
   ]
  },
  {
   "cell_type": "markdown",
   "metadata": {},
   "source": [
    "## Plot the ACF chart"
   ]
  },
  {
   "cell_type": "code",
   "execution_count": null,
   "metadata": {},
   "outputs": [],
   "source": [
    "import statsmodels.tsa.api as smt\n",
    "smt.graphics.plot_acf(logmsft_diff['Adj. Close'], lags=100)\n",
    "plt.show()"
   ]
  },
  {
   "cell_type": "markdown",
   "metadata": {},
   "source": [
    "## Plot the PACF chart"
   ]
  },
  {
   "cell_type": "code",
   "execution_count": null,
   "metadata": {},
   "outputs": [],
   "source": [
    "smt.graphics.plot_pacf(logmsft_diff['Adj. Close'], lags=100)\n",
    "plt.show()"
   ]
  },
  {
   "cell_type": "markdown",
   "metadata": {},
   "source": [
    "## Create the ARIMA model and returned details about the residual errors"
   ]
  },
  {
   "cell_type": "code",
   "execution_count": null,
   "metadata": {
    "pixiedust": {
     "displayParams": {}
    }
   },
   "outputs": [],
   "source": [
    "from statsmodels.tsa.arima_model import ARIMA\n",
    "\n",
    "import warnings\n",
    "with warnings.catch_warnings():\n",
    "    warnings.simplefilter(\"ignore\")\n",
    "    arima_model_class = ARIMA(train_set['Adj. Close'], dates=train_set['Date'], order=(1,1,1))\n",
    "    arima_model = arima_model_class.fit(disp=0)\n",
    "\n",
    "    print(arima_model.resid.describe())"
   ]
  },
  {
   "cell_type": "code",
   "execution_count": null,
   "metadata": {
    "pixiedust": {
     "displayParams": {
      "handlerId": "tableView",
      "table_nocount": "true",
      "table_noschema": "true",
      "table_nosearch": "true"
     }
    }
   },
   "outputs": [],
   "source": [
    "s = arima_model.resid.describe().to_frame().reset_index()\n",
    "display(s)"
   ]
  },
  {
   "cell_type": "markdown",
   "metadata": {},
   "source": [
    "## Plot the predictions and compare them to the actual observation in the train_set"
   ]
  },
  {
   "cell_type": "code",
   "execution_count": null,
   "metadata": {},
   "outputs": [],
   "source": [
    "def plot_predict(model, dates_series, num_observations):\n",
    "    fig = plt.figure(figsize = (12,5))\n",
    "    model.plot_predict(\n",
    "        start = str(dates_series[len(dates_series)-num_observations]), \n",
    "        end = str(dates_series[len(dates_series)-1])\n",
    "    )\n",
    "    plt.show()\n",
    "    \n",
    "plot_predict(arima_model, train_set['Date'], 100)\n",
    "plot_predict(arima_model, train_set['Date'], 10)"
   ]
  },
  {
   "cell_type": "markdown",
   "metadata": {},
   "source": [
    "## Diagnose the model against the test set values"
   ]
  },
  {
   "cell_type": "code",
   "execution_count": null,
   "metadata": {
    "pixiedust": {
     "displayParams": {
      "handlerId": "lineChart",
      "keyFields": "Date",
      "valueFields": "forecast,test"
     }
    }
   },
   "outputs": [],
   "source": [
    "def compute_test_set_predictions(train_set, test_set):\n",
    "    with warnings.catch_warnings():\n",
    "        warnings.simplefilter(\"ignore\")\n",
    "        history = train_set['Adj. Close'].values\n",
    "        forecast = np.array([])\n",
    "        for t in range(len(test_set)):\n",
    "            prediction = ARIMA(history, order=(1,1,0)).fit(disp=0).forecast()\n",
    "            history = np.append(history, test_set['Adj. Close'].iloc[t])\n",
    "            forecast = np.append(forecast, prediction[0])\n",
    "        return pd.DataFrame(\n",
    "          {\"forecast\": forecast,\n",
    "           \"test\": test_set['Adj. Close'],\n",
    "           \"Date\": pd.date_range(start=test_set['Date'].iloc[len(test_set)-1], periods = len(test_set))\n",
    "          }\n",
    "        )\n",
    "        \n",
    "results = compute_test_set_predictions(train_set, test_set)\n",
    "display(results)"
   ]
  },
  {
   "cell_type": "markdown",
   "metadata": {},
   "source": [
    "## Compute the mean squared error of the predictions for the test set"
   ]
  },
  {
   "cell_type": "code",
   "execution_count": null,
   "metadata": {},
   "outputs": [],
   "source": [
    "from sklearn.metrics import mean_squared_error\n",
    "def compute_mean_squared_error(test_series, forecast_series):\n",
    "    return mean_squared_error(test_series, forecast_series)\n",
    "\n",
    "print('Mean Squared Error: {}'.format( compute_mean_squared_error( test_set['Adj. Close'], results.forecast)) )"
   ]
  },
  {
   "cell_type": "markdown",
   "metadata": {},
   "source": [
    "## Improve the version of the StockExplorer PixieApp to add forecasting with ARIMA\n",
    "1. Enable the user to enter a list of Stock Tickers\n",
    "2. Provide a menu for basic plotting: Price over time and Daily stock spread over time\n",
    "3. Menu for displaying moving average with configurable lag\n",
    "4. Menu for displaying ACF and PACF with configurable lag\n",
    "5. Menu for time series forecasting with ARIMA"
   ]
  },
  {
   "cell_type": "markdown",
   "metadata": {},
   "source": [
    "## Base PixieApp used as parent class for all the subapp associated with each menu"
   ]
  },
  {
   "cell_type": "code",
   "execution_count": null,
   "metadata": {},
   "outputs": [],
   "source": [
    "@PixieApp\n",
    "class BaseSubApp():\n",
    "    def setup(self):\n",
    "        self.lag = 50\n",
    "\n",
    "    def add_ticker_selection_markup(refresh_ids):\n",
    "        def deco(fn):\n",
    "            def wrap(self, *args, **kwargs):\n",
    "                return \"\"\"\n",
    "<div class=\"row\" style=\"text-align:center\">\n",
    "    <div class=\"btn-group btn-group-toggle\" style=\"border-bottom:2px solid #eeeeee\" data-toggle=\"buttons\">\n",
    "        {%for ticker, state in this.parent_pixieapp.tickers.items()%}\n",
    "        <label class=\"btn btn-secondary {%if this.parent_pixieapp.active_ticker == ticker%}active{%endif%}\"\n",
    "            pd_refresh=\\\"\"\"\" + \",\".join(refresh_ids) + \"\"\"\\\" pd_script=\"self.set_active_ticker('{{ticker}}')\">\n",
    "            <input type=\"radio\" {%if this.parent_pixieapp.active_ticker == ticker%}checked{%endif%}> \n",
    "                {{ticker}}\n",
    "        </label>\n",
    "        {%endfor%}\n",
    "    </div>\n",
    "</div>\n",
    "                \"\"\" + fn(self, *args, **kwargs)\n",
    "            return wrap\n",
    "        return deco\n",
    "    \n",
    "    def set_active_ticker(self, ticker):\n",
    "        self.parent_pixieapp.set_active_ticker(ticker)\n",
    "    \n",
    "    @route(widget=\"lag_slider\")\n",
    "    def slider_screen(self):\n",
    "        return \"\"\"\n",
    "<div>\n",
    "    <label class=\"field\">Lag:<span id=\"slideval{{prefix}}\">50</span></label>\n",
    "    <i class=\"fa fa-info-circle\" style=\"color:orange\" data-toggle=\"pd-tooltip\" \n",
    "        title=\"Selected lag used to compute moving average, ACF or PACF\"></i>\n",
    "    <div id=\"slider{{prefix}}\" name=\"slider\" data-min=30 data-max=300\n",
    "        data-default=50 style=\"margin: 0 0.6em;\">\n",
    "    </div>\n",
    "</div>\n",
    "<script>\n",
    "$(\"[id^=slider][id$={{prefix}}]\").each(function() {\n",
    "    var sliderElt = $(this)\n",
    "    var min = sliderElt.data(\"min\")\n",
    "    var max = sliderElt.data(\"max\")\n",
    "    var val = sliderElt.data(\"default\")\n",
    "    sliderElt.slider({\n",
    "        min: isNaN(min) ? 0 : min,\n",
    "        max: isNaN(max) ? 100 : max,\n",
    "        value: isNaN(val) ? 50 : val,\n",
    "        change: function(evt, ui) {\n",
    "            $(\"[id=slideval{{prefix}}]\").text(ui.value); \n",
    "            pixiedust.sendEvent({type:'lagSlider',value:ui.value})\n",
    "        },\n",
    "        slide: function(evt, ui) {\n",
    "            $(\"[id=slideval{{prefix}}]\").text(ui.value);\n",
    "        }\n",
    "    });\n",
    "})\n",
    "</script>\n",
    "        \"\"\""
   ]
  },
  {
   "cell_type": "markdown",
   "metadata": {},
   "source": [
    "## Sub App for basic exploration of the selected Stock Time Serie"
   ]
  },
  {
   "cell_type": "code",
   "execution_count": null,
   "metadata": {},
   "outputs": [],
   "source": [
    "@PixieApp\n",
    "class StockExploreSubApp(BaseSubApp):\n",
    "    @route()\n",
    "    @BaseSubApp.add_ticker_selection_markup(['chart{{prefix}}', 'daily_spread{{prefix}}'])\n",
    "    def main_screen(self):\n",
    "        return \"\"\"\n",
    "<div class=\"row\" style=\"min-height:300px\">\n",
    "    <div class=\"col-xs-6\" id=\"chart{{prefix}}\" pd_render_onload pd_options=\"show_chart=Adj. Close\">\n",
    "    </div>\n",
    "    <div class=\"col-xs-6\" id=\"daily_spread{{prefix}}\" pd_render_onload pd_options=\"show_chart=daily_spread\">\n",
    "    </div>\n",
    "</div>\n",
    "\"\"\"\n",
    "        \n",
    "    @route(show_chart=\"*\")\n",
    "    def show_chart_screen(self, show_chart):\n",
    "        return \"\"\"\n",
    "<div pd_entity=\"parent_pixieapp.get_active_df()\" pd_render_onload>\n",
    "    <pd_options>\n",
    "    {\n",
    "      \"handlerId\": \"lineChart\",\n",
    "      \"valueFields\": \"{{show_chart}}\",\n",
    "      \"rendererId\": \"bokeh\",\n",
    "      \"keyFields\": \"Date\",\n",
    "      \"noChartCache\": \"true\",\n",
    "      \"rowCount\": \"10000\"\n",
    "    }\n",
    "    </pd_options>\n",
    "</div>\n",
    "        \"\"\""
   ]
  },
  {
   "cell_type": "markdown",
   "metadata": {},
   "source": [
    "## Sub App for displaying moving average of the selected Stock Time Serie"
   ]
  },
  {
   "cell_type": "code",
   "execution_count": null,
   "metadata": {},
   "outputs": [],
   "source": [
    "@PixieApp\n",
    "class MovingAverageSubApp(BaseSubApp):\n",
    "    @route()\n",
    "    @BaseSubApp.add_ticker_selection_markup(['chart{{prefix}}'])\n",
    "    def main_screen(self):\n",
    "        return \"\"\"\n",
    "<div class=\"row\" style=\"min-height:300px\">\n",
    "    <div class=\"page-header text-center\">\n",
    "        <h1>Moving Average for {{this.parent_pixieapp.active_ticker}}</h1>\n",
    "    </div>\n",
    "    <div class=\"col-sm-12\" id=\"chart{{prefix}}\" pd_render_onload pd_entity=\"get_moving_average_df()\">\n",
    "        <pd_options>\n",
    "        {\n",
    "          \"valueFields\": \"Adj. Close\",\n",
    "          \"keyFields\": \"x\",\n",
    "          \"rendererId\": \"bokeh\",\n",
    "          \"handlerId\": \"lineChart\",\n",
    "          \"rowCount\": \"10000\"\n",
    "        }\n",
    "        </pd_options>\n",
    "    </div>\n",
    "</div>\n",
    "<div class=\"row\">\n",
    "    <div pd_widget=\"lag_slider\">\n",
    "        <pd_event_handler \n",
    "            pd_source=\"lagSlider\"\n",
    "            pd_script=\"self.lag = eventInfo['value']\"\n",
    "            pd_refresh=\"chart{{prefix}}\">\n",
    "        </pd_event_handler>\n",
    "    </div>\n",
    "</div>\n",
    "\"\"\"\n",
    "    def get_moving_average_df(self):\n",
    "        ma = self.parent_pixieapp.get_active_df()['Adj. Close'].rolling(window=self.lag).mean()\n",
    "        ma_df = pd.DataFrame(ma)\n",
    "        ma_df[\"x\"] = ma_df.index\n",
    "        return ma_df"
   ]
  },
  {
   "cell_type": "markdown",
   "metadata": {},
   "source": [
    "## Sub App for displaying ACF and PACF of the selected Stock Time Serie"
   ]
  },
  {
   "cell_type": "code",
   "execution_count": null,
   "metadata": {},
   "outputs": [],
   "source": [
    "import statsmodels.tsa.api as smt\n",
    "@PixieApp\n",
    "class AutoCorrelationSubApp(BaseSubApp):\n",
    "    @route()\n",
    "    @BaseSubApp.add_ticker_selection_markup(['chart_acf{{prefix}}', 'chart_pacf{{prefix}}'])\n",
    "    def main_screen(self):\n",
    "        return \"\"\"\n",
    "<div class=\"row\" style=\"min-height:300px\">\n",
    "    <div class=\"col-sm-6\">\n",
    "        <div class=\"page-header text-center\">\n",
    "            <h1>Auto-correlation Function</h1>\n",
    "        </div>\n",
    "        <div id=\"chart_acf{{prefix}}\" pd_render_onload pd_options=\"show_acf=true\">\n",
    "        </div>\n",
    "    </div>\n",
    "    <div class=\"col-sm-6\">\n",
    "        <div class=\"page-header text-center\">\n",
    "            <h1>Partial Auto-correlation Function</h1>\n",
    "        </div>\n",
    "        <div id=\"chart_pacf{{prefix}}\" pd_render_onload pd_options=\"show_pacf=true\">\n",
    "        </div>\n",
    "    </div>\n",
    "</div> \n",
    "\n",
    "<div class=\"row\">\n",
    "    <div pd_widget=\"lag_slider\">\n",
    "        <pd_event_handler \n",
    "            pd_source=\"lagSlider\"\n",
    "            pd_script=\"self.lag = eventInfo['value']\"\n",
    "            pd_refresh=\"chart_acf{{prefix}},chart_pacf{{prefix}}\">\n",
    "        </pd_event_handler>\n",
    "    </div>\n",
    "</div>\n",
    "\"\"\"\n",
    "    @route(show_acf='*')\n",
    "    @captureOutput\n",
    "    def show_acf_screen(self):\n",
    "        smt.graphics.plot_acf(self.parent_pixieapp.get_active_df()['Adj. Close'], lags=self.lag)\n",
    "    \n",
    "    @route(show_pacf='*')\n",
    "    @captureOutput\n",
    "    def show_pacf_screen(self):\n",
    "        smt.graphics.plot_pacf(self.parent_pixieapp.get_active_df()['Adj. Close'], lags=self.lag)"
   ]
  },
  {
   "cell_type": "markdown",
   "metadata": {},
   "source": [
    "## Sub App for time series forecasting with ARIMA"
   ]
  },
  {
   "cell_type": "code",
   "execution_count": null,
   "metadata": {},
   "outputs": [],
   "source": [
    "from statsmodels.tsa.arima_model import ARIMA\n",
    "\n",
    "@PixieApp\n",
    "class ForecastArimaSubApp(BaseSubApp):\n",
    "    def setup(self):\n",
    "        self.entity_dataframe = self.parent_pixieapp.get_active_df().copy()\n",
    "        self.differencing = False\n",
    "        \n",
    "    def set_active_ticker(self, ticker):\n",
    "        BaseSubApp.set_active_ticker(self, ticker)\n",
    "        self.setup()\n",
    "\n",
    "    @route()\n",
    "    @BaseSubApp.add_ticker_selection_markup([])\n",
    "    def main_screen(self):\n",
    "        return \"\"\"\n",
    "<div class=\"page-header text-center\">\n",
    "    <h2>1. Data Exploration to test for Stationarity\n",
    "        <button class=\"btn btn-default\" pd_script=\"self.toggle_differencing()\" pd_refresh>\n",
    "            {%if this.differencing%}Remove differencing{%else%}Add differencing{%endif%}\n",
    "        </button>\n",
    "        <button class=\"btn btn-default\" pd_options=\"do_forecast=true\">\n",
    "            Continue to Forecast\n",
    "        </button>\n",
    "    </h2>\n",
    "</div>\n",
    "\n",
    "<div class=\"row\" style=\"min-height:300px\">\n",
    "    <div class=\"col-sm-10\" id=\"chart{{prefix}}\" pd_render_onload pd_options=\"show_chart=Adj. Close\">\n",
    "    </div>\n",
    "</div>\n",
    "\n",
    "<div class=\"row\" style=\"min-height:300px\">\n",
    "    <div class=\"col-sm-6\">\n",
    "        <div class=\"page-header text-center\">\n",
    "            <h3>Auto-correlation Function</h3>\n",
    "        </div>\n",
    "        <div id=\"chart_acf{{prefix}}\" pd_render_onload pd_options=\"show_acf=true\">\n",
    "        </div>\n",
    "    </div>\n",
    "    <div class=\"col-sm-6\">\n",
    "        <div class=\"page-header text-center\">\n",
    "            <h3>Partial Auto-correlation Function</h3>\n",
    "        </div>\n",
    "        <div id=\"chart_pacf{{prefix}}\" pd_render_onload pd_options=\"show_pacf=true\">\n",
    "        </div>\n",
    "    </div>\n",
    "</div>\n",
    "        \"\"\"\n",
    "    @route(show_chart=\"*\")\n",
    "    def show_chart_screen(self, show_chart):\n",
    "        return \"\"\"\n",
    "<h3><center>Time Series</center></h3>\n",
    "<div pd_render_onload pd_entity=\"entity_dataframe\">\n",
    "    <pd_options>\n",
    "    {\n",
    "      \"rowCount\": \"10000\",\n",
    "      \"keyFields\": \"Date\",\n",
    "      \"valueFields\": \"Adj. Close\",\n",
    "      \"handlerId\": \"lineChart\",\n",
    "      \"noChartCache\": \"true\"\n",
    "    }\n",
    "    </pd_options>\n",
    "</div>\n",
    "\"\"\"\n",
    "\n",
    "    @route(show_acf='*')\n",
    "    @captureOutput\n",
    "    def show_acf_screen(self):\n",
    "        smt.graphics.plot_acf(self.entity_dataframe['Adj. Close'], lags=50)\n",
    "    \n",
    "    @route(show_pacf='*')\n",
    "    @captureOutput\n",
    "    def show_pacf_screen(self):\n",
    "        smt.graphics.plot_pacf(self.entity_dataframe['Adj. Close'], lags=50)\n",
    "        \n",
    "    def toggle_differencing(self):\n",
    "        if self.differencing:\n",
    "            self.entity_dataframe = self.parent_pixieapp.get_active_df().copy()\n",
    "            self.differencing = False\n",
    "        else:\n",
    "            log_df = np.log(self.entity_dataframe['Adj. Close'])\n",
    "            log_df.index = self.entity_dataframe['Date']\n",
    "            self.entity_dataframe = pd.DataFrame(log_df - log_df.shift()).reset_index()\n",
    "            self.entity_dataframe.dropna(inplace=True)\n",
    "            self.differencing = True\n",
    "            \n",
    "    @route(do_forecast=\"true\")\n",
    "    @BaseSubApp.add_ticker_selection_markup([])\n",
    "    def do_forecast_screen(self):\n",
    "        return \"\"\"\n",
    "<div class=\"page-header text-center\">\n",
    "    <h2>2. Build Arima model\n",
    "        <button class=\"btn btn-default\" pd_options=\"do_diagnose=true\">\n",
    "            Diagnose Model\n",
    "        </button>\n",
    "    </h2>\n",
    "</div>\n",
    "<div class=\"row\" id=\"forecast{{prefix}}\">\n",
    "    <div style=\"font-weight:bold\">Enter the p,d,q order for the ARIMA model you want to build</div>\n",
    "\n",
    "    <div class=\"form-group\" style=\"margin-left: 20px\">\n",
    "        <label class=\"control-label\">Enter the p order for the AR model:</label>\n",
    "        <input type=\"text\" class=\"form-control\" id=\"p_order{{prefix}}\" value=\"1\" style=\"width: 100px;margin-left:10px\">\n",
    "\n",
    "        <label class=\"control-label\">Enter the d order for the Integrated step:</label>\n",
    "        <input type=\"text\" class=\"form-control\" id=\"d_order{{prefix}}\" value=\"1\" style=\"width: 100px;margin-left:10px\">\n",
    "\n",
    "        <label class=\"control-label\">Enter the q order for the MA model:</label>\n",
    "        <input type=\"text\" class=\"form-control\" id=\"q_order{{prefix}}\" value=\"1\" style=\"width: 100px;margin-left:10px\">\n",
    "    </div>\n",
    "\n",
    "    <center>\n",
    "        <button class=\"btn btn-default\" pd_target=\"forecast{{prefix}}\"\n",
    "            pd_options=\"p_order=$val(p_order{{prefix}});d_order=$val(p_order{{prefix}});q_order=$val(p_order{{prefix}})\">\n",
    "        Go\n",
    "        </button>\n",
    "    </center>\n",
    "</div>\n",
    "\"\"\"\n",
    "    @route(p_order=\"*\",d_order=\"*\",q_order=\"*\")\n",
    "    @templateArgs\n",
    "    def build_arima_model_screen(self, p_order, d_order, q_order):\n",
    "        #Build the arima model\n",
    "        self.train_set = self.parent_pixieapp.get_active_df()[:-14]\n",
    "        self.test_set = self.parent_pixieapp.get_active_df()[-14:]\n",
    "        self.arima_model = ARIMA(\n",
    "            self.train_set['Adj. Close'], dates=self.train_set['Date'], \n",
    "            order=(int(p_order),int(d_order),int(q_order))\n",
    "        ).fit(disp=0)\n",
    "        self.residuals = self.arima_model.resid.describe().to_frame().reset_index()\n",
    "        return \"\"\"\n",
    "<div class=\"page-header text-center\">\n",
    "    <h3>ARIMA Model succesfully created</h3>\n",
    "<div>\n",
    "<div class=\"row\">\n",
    "    <div class=\"col-sm-10 col-sm-offset-3\">\n",
    "        <div pd_render_onload pd_options=\"plot_predict=true\">\n",
    "        </div>\n",
    "        <h3>Predicted values against the train set</h3>\n",
    "    </div>\n",
    "</div>\n",
    "<div class=\"row\">\n",
    "    <div pd_render_onload pd_entity=\"residuals\">\n",
    "        <pd_options>\n",
    "        {\n",
    "          \"handlerId\": \"tableView\",\n",
    "          \"table_noschema\": \"true\",\n",
    "          \"table_nosearch\": \"true\",\n",
    "          \"table_nocount\": \"true\"\n",
    "        }\n",
    "        </pd_options>\n",
    "    </div>\n",
    "    <h3><center>Residual errors statistics</center></h3> \n",
    "<div>\n",
    "        \"\"\"\n",
    "    \n",
    "    @route(plot_predict=\"true\")\n",
    "    @captureOutput\n",
    "    def plot_predict(self):\n",
    "        plot_predict(self.arima_model, self.train_set['Date'], 100)\n",
    "\n",
    "    def compute_test_set_predictions(self):\n",
    "        return compute_test_set_predictions(self.train_set, self.test_set)\n",
    "\n",
    "    @route(do_diagnose=\"true\")\n",
    "    @BaseSubApp.add_ticker_selection_markup([])\n",
    "    def do_diagnose_screen(self):\n",
    "        return \"\"\"\n",
    "<div class=\"page-header text-center\"><h2>3. Diagnose the model against the test set</h2></div>\n",
    "<div class=\"row\">\n",
    "    <div class=\"col-sm-10 center\" pd_render_onload pd_entity=\"compute_test_set_predictions()\">\n",
    "        <pd_options>\n",
    "        {\n",
    "          \"keyFields\": \"Date\",\n",
    "          \"valueFields\": \"forecast,test\",\n",
    "          \"handlerId\": \"lineChart\",\n",
    "          \"rendererId\": \"bokeh\",\n",
    "          \"noChartCache\": \"true\"          \n",
    "        }\n",
    "        </pd_options>\n",
    "    </div>\n",
    "</div>\n",
    "\"\"\"\n",
    "\n",
    "\n"
   ]
  },
  {
   "cell_type": "markdown",
   "metadata": {},
   "source": [
    "## Main class for the StockExplorer PixieApp"
   ]
  },
  {
   "cell_type": "code",
   "execution_count": null,
   "metadata": {
    "pixiedust": {
     "displayParams": {}
    }
   },
   "outputs": [],
   "source": [
    "@PixieApp\n",
    "class StockExplorer():\n",
    "    @route()\n",
    "    def main_screen(self):\n",
    "        return \"\"\"\n",
    "<style>\n",
    "    div.outer-wrapper {\n",
    "        display: table;width:100%;height:300px;\n",
    "    }\n",
    "    div.inner-wrapper {\n",
    "        display: table-cell;vertical-align: middle;height: 100%;width: 100%;\n",
    "    }\n",
    "</style>\n",
    "<div class=\"outer-wrapper\">\n",
    "    <div class=\"inner-wrapper\">\n",
    "        <div class=\"col-sm-3\"></div>\n",
    "        <div class=\"input-group col-sm-6\">\n",
    "          <input id=\"stocks{{prefix}}\" type=\"text\" class=\"form-control\" \n",
    "              value=\"MSFT,AMZN,IBM\"\n",
    "              placeholder=\"Enter a list of stocks separated by comma e.g MSFT,AMZN,IBM\">\n",
    "          <span class=\"input-group-btn\">\n",
    "            <button class=\"btn btn-default\" type=\"button\" pd_options=\"explore=true\">\n",
    "                <pd_script>\n",
    "self.select_tickers('$val(stocks{{prefix}})'.split(','))\n",
    "                </pd_script>\n",
    "                Explore\n",
    "            </button>\n",
    "          </span>\n",
    "        </div>\n",
    "    </div>\n",
    "</div>   \n",
    "\"\"\"\n",
    "    \n",
    "    def select_tickers(self, tickers):\n",
    "        self.tickers = {ticker.strip():{} for ticker in tickers}\n",
    "        self.set_active_ticker(tickers[0].strip())\n",
    "        \n",
    "    def set_active_ticker(self, ticker):\n",
    "        self.active_ticker = ticker\n",
    "        if 'df' not in self.tickers[ticker]:\n",
    "            self.tickers[ticker]['df'] = quandl.get('WIKI/{}'.format(ticker))\n",
    "            self.tickers[ticker]['df']['daily_spread'] = self.tickers[ticker]['df']['Adj. Close'] - self.tickers[ticker]['df']['Adj. Open']\n",
    "            self.tickers[ticker]['df'] = self.tickers[ticker]['df'].reset_index()\n",
    "            \n",
    "    def get_active_df(self):\n",
    "        return self.tickers[self.active_ticker]['df']\n",
    "\n",
    "    @route(explore=\"*\")\n",
    "    @templateArgs\n",
    "    def stock_explore_screen(self):\n",
    "        tabs = [(\"Explore\",\"StockExploreSubApp\"), (\"Moving Average\", \"MovingAverageSubApp\"),\n",
    "                (\"ACF and PACF\", \"AutoCorrelationSubApp\"), (\"Forecast with ARIMA\", \"ForecastArimaSubApp\")]\n",
    "        return \"\"\"\n",
    "<style>    \n",
    "    .btn:active, .btn.active {\n",
    "        background-color:aliceblue;\n",
    "    }\n",
    "</style>\n",
    "<div class=\"page-header\">\n",
    "  <h1>Stock Explorer PixieApp</h1>\n",
    "</div>\n",
    "<div class=\"container-fluid\">\n",
    "    <div class=\"row\">\n",
    "        <div class=\"btn-group-vertical btn-group-toggle col-sm-2\" data-toggle=\"buttons\">\n",
    "            {%for title, subapp in tabs%}\n",
    "            <label class=\"btn btn-secondary {%if loop.first%}active{%endif%}\"\n",
    "                pd_options=\"show_analytic={{subapp}}\"\n",
    "                pd_target=\"analytic_screen{{prefix}}\">\n",
    "                <input type=\"radio\" {%if loop.first%}checked{%endif%}> \n",
    "                    {{title}}\n",
    "            </label>\n",
    "            {%endfor%}\n",
    "        </div>\n",
    "        <div id=\"analytic_screen{{prefix}}\" class=\"col-sm-10\">\n",
    "        </div>\n",
    "    </div>\n",
    "\"\"\"\n",
    "    @route(show_analytic=\"*\")\n",
    "    def show_analytic_screen(self, show_analytic):\n",
    "        return \"\"\"\n",
    "<div pd_app=\"{{show_analytic}}\" pd_render_onload></div>\n",
    "\"\"\"\n",
    "    \n",
    "app = StockExplorer()\n",
    "app.run()"
   ]
  },
  {
   "cell_type": "code",
   "execution_count": null,
   "metadata": {},
   "outputs": [],
   "source": []
  }
 ],
 "metadata": {
  "celltoolbar": "Edit Metadata",
  "kernelspec": {
   "display_name": "Python 3",
   "language": "python",
   "name": "python3"
  },
  "language_info": {
   "codemirror_mode": {
    "name": "ipython",
    "version": 3
   },
   "file_extension": ".py",
   "mimetype": "text/x-python",
   "name": "python",
   "nbconvert_exporter": "python",
   "pygments_lexer": "ipython3",
   "version": "3.5.4"
  }
 },
 "nbformat": 4,
 "nbformat_minor": 2
}
