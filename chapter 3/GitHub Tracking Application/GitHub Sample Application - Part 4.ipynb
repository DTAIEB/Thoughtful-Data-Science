{
 "cells": [
  {
   "cell_type": "markdown",
   "metadata": {},
   "source": [
    "# GitHub Tracking Application Part 4\n",
    "Include a Repo Analysis Page  \n",
    "Include a checkbox for switching between line chart and statistical summary  \n",
    "Make the checkbox responsible by directly updating the statistics table  "
   ]
  },
  {
   "cell_type": "markdown",
   "metadata": {},
   "source": [
    "# Setup the GitHub Credentials"
   ]
  },
  {
   "cell_type": "code",
   "execution_count": null,
   "metadata": {},
   "outputs": [],
   "source": [
    "github_user = \"dtaieb\"\n",
    "github_token = \"XXXXX\""
   ]
  },
  {
   "cell_type": "markdown",
   "metadata": {},
   "source": [
    "## Create the loader function for the commit activity GitHub API"
   ]
  },
  {
   "cell_type": "code",
   "execution_count": null,
   "metadata": {
    "pixiedust": {
     "displayParams": {
      "aggregation": "SUM",
      "handlerId": "lineChart",
      "keyFields": "week",
      "rendererId": "bokeh",
      "rowCount": "500",
      "timeseries": "false",
      "valueFields": "total"
     }
    }
   },
   "outputs": [],
   "source": [
    "from datetime import datetime\n",
    "import requests\n",
    "import pixiedust\n",
    "import pandas\n",
    "def load_commit_activity(owner, repo_name):\n",
    "    response = requests.get(\n",
    "        \"https://api.github.com/repos/{}/{}/stats/commit_activity\".format(owner, repo_name),\n",
    "        auth=(github_user, github_token)\n",
    "    ).json()\n",
    "    pdf = pandas.DataFrame([\n",
    "        {\"total\": item[\"total\"], \"week\":datetime.fromtimestamp(item[\"week\"])} for item in response\n",
    "    ])\n",
    "    \n",
    "    return {\n",
    "        \"pdf\":pdf,\n",
    "        \"chart_options\": {\n",
    "          \"handlerId\": \"lineChart\",\n",
    "          \"keyFields\": \"week\",\n",
    "          \"valueFields\": \"total\",\n",
    "          \"aggregation\": \"SUM\",\n",
    "          \"rendererId\": \"bokeh\"\n",
    "        }\n",
    "    }"
   ]
  },
  {
   "cell_type": "markdown",
   "metadata": {},
   "source": [
    "## Use display to get the chart options JSON payload"
   ]
  },
  {
   "cell_type": "code",
   "execution_count": null,
   "metadata": {
    "pixiedust": {
     "displayParams": {
      "aggregation": "SUM",
      "chartsize": "100",
      "handlerId": "lineChart",
      "keyFields": "week",
      "logx": "false",
      "logy": "false",
      "rendererId": "bokeh",
      "rowCount": "500",
      "valueFields": "total"
     }
    }
   },
   "outputs": [],
   "source": [
    "display(load_commit_activity(\"ibm-watson-data-lab\",\"pixiedust\")[\"pdf\"])"
   ]
  },
  {
   "cell_type": "markdown",
   "metadata": {},
   "source": [
    "## Create the array that controls the type of data being analyzed"
   ]
  },
  {
   "cell_type": "code",
   "execution_count": null,
   "metadata": {},
   "outputs": [],
   "source": [
    "analyses = [(\"Commit Activity\", load_commit_activity)]"
   ]
  },
  {
   "cell_type": "markdown",
   "metadata": {},
   "source": [
    "## Implement the RepoAnalysis PixieApp that is responsible for visualizing the data"
   ]
  },
  {
   "cell_type": "code",
   "execution_count": null,
   "metadata": {
    "pixiedust": {
     "displayParams": {}
    }
   },
   "outputs": [],
   "source": [
    "from pixiedust.display.app import *\n",
    "import requests\n",
    "import pandas\n",
    "\n",
    "class RepoAnalysis():\n",
    "    def setup(self):\n",
    "        self.show_stats = False\n",
    "        self.analyse_type = None\n",
    "\n",
    "    @route(analyse_repo_owner=\"*\", analyse_repo_name=\"*\")\n",
    "    @templateArgs\n",
    "    def do_analyse_repo(self, analyse_repo_owner, analyse_repo_name):\n",
    "        self._analyse_repo_owner = analyse_repo_owner\n",
    "        self._analyse_repo_name = analyse_repo_name\n",
    "        return \"\"\"\n",
    "<div class=\"container-fluid\">\n",
    "    <div class=\"col-sm-2\">\n",
    "        <div class=\"dropdown center-block\">\n",
    "          <button class=\"btn btn-primary dropdown-toggle\" type=\"button\" data-toggle=\"dropdown\">\n",
    "              Select Repo Data Set\n",
    "              <span class=\"caret\"></span>\n",
    "          </button>\n",
    "          <ul class=\"dropdown-menu\" style=\"list-style:none;margin:0px;padding:0px\">\n",
    "              {%for analysis,_ in this.analyses%}\n",
    "                <li>\n",
    "                    <a href=\"#\" pd_script=\"self.analyse_type='{{analysis}}'\" pd_refresh=\"analyse_vis{{prefix}}\"\n",
    "                        style=\"text-decoration: none;background-color:transparent\">\n",
    "                        {{analysis}}\n",
    "                    </a>\n",
    "                </li>\n",
    "              {%endfor%}\n",
    "          </ul>\n",
    "        </div>\n",
    "        <div class=\"checkbox\">\n",
    "          <label>\n",
    "              <input type=\"checkbox\"\n",
    "                     id=\"show_stats{{prefix}}\"\n",
    "                     pd_script=\"self.show_stats='$val(show_stats{{prefix}})'=='true'\"\n",
    "                     pd_refresh=\"analyse_vis{{prefix}}\">\n",
    "                     Show Statistics\n",
    "          </label>\n",
    "        </div>\n",
    "    </div>\n",
    "    <div id=\"analyse_vis{{prefix}}\" class=\"col-sm-10\" \n",
    "        pd_options=\"display_analysis=true\" pd_target=\"analyse_vis{{prefix}}\"></div>\n",
    "</div>\n",
    "\"\"\"\n",
    "    def get_pdf(self):\n",
    "        if self.show_stats:\n",
    "            summary = self.pdf.describe()\n",
    "            summary.insert(0, \"Stat\", summary.index)\n",
    "            return summary\n",
    "        return self.pdf\n",
    "    \n",
    "    @route(display_analysis=\"*\")\n",
    "    @templateArgs\n",
    "    def do_analyse_type(self):\n",
    "        fn = [analysis_fn for a_type,analysis_fn in analyses if a_type == self.analyse_type]\n",
    "        if len(fn) == 0:\n",
    "            return \"No loader function found for {{analyse_type}}\"\n",
    "        vis_info = fn[0](self._analyse_repo_owner, self._analyse_repo_name)\n",
    "        self.pdf = vis_info[\"pdf\"]\n",
    "        chart_options = {\"handlerId\":\"dataframe\"} if self.show_stats else vis_info[\"chart_options\"]\n",
    "        return \"\"\"\n",
    "        <div pd_entity=\"get_pdf()\" pd_render_onload>\n",
    "            <pd_options>{{chart_options | tojson}}</pd_options>\n",
    "        </div>\n",
    "        \"\"\""
   ]
  },
  {
   "cell_type": "markdown",
   "metadata": {},
   "source": [
    "## GitHubTracking PixieApp class\n",
    "Main PixieApp class that inherits from RepoAnalysis"
   ]
  },
  {
   "cell_type": "code",
   "execution_count": null,
   "metadata": {
    "pixiedust": {
     "displayParams": {},
     "pixieapp": {
      "query": "pixiedust"
     }
    }
   },
   "outputs": [],
   "source": [
    "@PixieApp\n",
    "class GitHubTracking(RepoAnalysis):\n",
    "    \"\"\"\n",
    "    GitHub Tracking Sample Application\n",
    "    \"\"\"\n",
    "    @route()\n",
    "    def main_screen(self):\n",
    "        return \"\"\"\n",
    "<style>\n",
    "    div.outer-wrapper {\n",
    "        display: table;width:100%;height:300px;\n",
    "    }\n",
    "    div.inner-wrapper {\n",
    "        display: table-cell;vertical-align: middle;height: 100%;width: 100%;\n",
    "    }\n",
    "</style>\n",
    "<div class=\"outer-wrapper\">\n",
    "    <div class=\"inner-wrapper\">\n",
    "        <div class=\"col-sm-3\"></div>\n",
    "        <div class=\"input-group col-sm-6\">\n",
    "          <input id=\"query{{prefix}}\" type=\"text\" class=\"form-control\" placeholder=\"Search projects on GitHub\">\n",
    "          <span class=\"input-group-btn\">\n",
    "            <button class=\"btn btn-default\" type=\"button\" pd_options=\"query=$val(query{{prefix}})\">Submit Query</button>\n",
    "          </span>\n",
    "        </div>\n",
    "    </div>\n",
    "</div>   \n",
    "\"\"\"\n",
    "    @route(query=\"*\", persist_args='true')\n",
    "    @templateArgs\n",
    "    def do_search(self, query):\n",
    "        self.first_url = \"https://api.github.com/search/repositories?q={}\".format(query)\n",
    "        self.prev_url = None\n",
    "        self.next_url = None\n",
    "        self.last_url = None\n",
    "        \n",
    "        response = requests.get(self.first_url)\n",
    "        if not response.ok:\n",
    "            return \"<div>An Error occurred: {{response.text}}</div>\"\n",
    "\n",
    "        total_count = response.json()['total_count']\n",
    "        self.next_url = response.links.get('next', {}).get('url', None)\n",
    "        self.last_url = response.links.get('last', {}).get('url', None)\n",
    "        return \"\"\"\n",
    "<h1><center>{{total_count}} repositories were found</center></h1>\n",
    "<ul class=\"pagination\">\n",
    "  <li><a href=\"#\" pd_options=\"page=first_url\" pd_target=\"body{{prefix}}\">First</a></li>\n",
    "  <li><a href=\"#\" pd_options=\"page=prev_url\" pd_target=\"body{{prefix}}\">Prev</a></li>\n",
    "  <li><a href=\"#\" pd_options=\"page=next_url\" pd_target=\"body{{prefix}}\">Next</a></li>\n",
    "  <li><a href=\"#\" pd_options=\"page=last_url\" pd_target=\"body{{prefix}}\">Last</a></li>\n",
    "</ul>\n",
    "<table class=\"table\">\n",
    "    <thead>\n",
    "        <tr>\n",
    "            <th>Repo Name</th>\n",
    "            <th>Lastname</th>\n",
    "            <th>URL</th>\n",
    "            <th>Stars</th>\n",
    "            <th>Actions</th>\n",
    "        </tr>\n",
    "    </thead>\n",
    "    <tbody id=\"body{{prefix}}\">\n",
    "        {{this.invoke_route(this.do_retrieve_page, page='first_url')}}\n",
    "    </tbody>\n",
    "</table>\n",
    "\"\"\"\n",
    "    @route(page=\"*\")\n",
    "    @templateArgs\n",
    "    def do_retrieve_page(self, page):\n",
    "        url = getattr(self, page)\n",
    "        if url is None:\n",
    "            return \"<div>No more rows</div>\"\n",
    "        response = requests.get(url)\n",
    "        self.prev_url = response.links.get('prev', {}).get('url', None)\n",
    "        self.next_url = response.links.get('next', {}).get('url', None)\n",
    "        items = response.json()['items']\n",
    "        return \"\"\"\n",
    "{%for row in items%}\n",
    "<tr>\n",
    "    <td>{{row['name']}}</td>\n",
    "    <td>{{row.get('owner',{}).get('login', 'N/A')}}</td>\n",
    "    <td><a href=\"{{row['html_url']}}\" target=\"_blank\">{{row['html_url']}}</a></td>\n",
    "    <td>{{row['stargazers_count']}}</td>\n",
    "    <td>\n",
    "        <button pd_options=\"analyse_repo_owner={{row[\"owner\"][\"login\"]}};analyse_repo_name={{row['name']}}\" \n",
    "            class=\"btn btn-default btn-sm\" title=\"Analyze Repo\">\n",
    "            <i class=\"fa fa-line-chart\"></i>\n",
    "        </button>\n",
    "    </td>\n",
    "</tr>\n",
    "{%endfor%}\n",
    "        \"\"\"\n",
    "\n",
    "app = GitHubTracking()\n",
    "app.run()"
   ]
  }
 ],
 "metadata": {
  "celltoolbar": "Edit Metadata",
  "kernelspec": {
   "display_name": "Python 3",
   "language": "python",
   "name": "python3"
  },
  "language_info": {
   "codemirror_mode": {
    "name": "ipython",
    "version": 3
   },
   "file_extension": ".py",
   "mimetype": "text/x-python",
   "name": "python",
   "nbconvert_exporter": "python",
   "pygments_lexer": "ipython3",
   "version": "3.5.4"
  }
 },
 "nbformat": 4,
 "nbformat_minor": 2
}
