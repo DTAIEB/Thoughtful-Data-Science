{
 "cells": [
  {
   "cell_type": "markdown",
   "metadata": {},
   "source": [
    "# GitHub Tracking Application Part 3\n",
    "Include a Repo Analysis Page\n",
    "Include a checkbox for switching between line chart and statistical summary"
   ]
  },
  {
   "cell_type": "markdown",
   "metadata": {},
   "source": [
    "# Setup the GitHub Credentials"
   ]
  },
  {
   "cell_type": "code",
   "execution_count": 1,
   "metadata": {},
   "outputs": [],
   "source": [
    "github_user = \"dtaieb\"\n",
    "github_token = \"XXXXX\""
   ]
  },
  {
   "cell_type": "markdown",
   "metadata": {},
   "source": [
    "## Create the loader function for the commit activity GitHub API"
   ]
  },
  {
   "cell_type": "code",
   "execution_count": 2,
   "metadata": {
    "pixiedust": {
     "displayParams": {
      "aggregation": "SUM",
      "handlerId": "lineChart",
      "keyFields": "week",
      "rendererId": "bokeh",
      "rowCount": "500",
      "timeseries": "false",
      "valueFields": "total"
     }
    }
   },
   "outputs": [
    {
     "name": "stdout",
     "output_type": "stream",
     "text": [
      "Pixiedust database opened successfully\n"
     ]
    },
    {
     "data": {
      "text/html": [
       "\n",
       "        <div style=\"margin:10px\">\n",
       "            <a href=\"https://github.com/ibm-watson-data-lab/pixiedust\" target=\"_new\">\n",
       "                <img src=\"https://github.com/ibm-watson-data-lab/pixiedust/raw/master/docs/_static/pd_icon32.png\" style=\"float:left;margin-right:10px\"/>\n",
       "            </a>\n",
       "            <span>Pixiedust version 1.1.9</span>\n",
       "        </div>\n",
       "        "
      ],
      "text/plain": [
       "<IPython.core.display.HTML object>"
      ]
     },
     "metadata": {},
     "output_type": "display_data"
    }
   ],
   "source": [
    "from datetime import datetime\n",
    "import requests\n",
    "import pixiedust\n",
    "import pandas\n",
    "def load_commit_activity(owner, repo_name):\n",
    "    response = requests.get(\n",
    "        \"https://api.github.com/repos/{}/{}/stats/commit_activity\".format(owner, repo_name),\n",
    "        auth=(github_user, github_token)\n",
    "    ).json()\n",
    "    pdf = pandas.DataFrame([\n",
    "        {\"total\": item[\"total\"], \"week\":datetime.fromtimestamp(item[\"week\"])} for item in response\n",
    "    ])\n",
    "    \n",
    "    return {\n",
    "        \"pdf\":pdf,\n",
    "        \"chart_options\": {\n",
    "          \"handlerId\": \"lineChart\",\n",
    "          \"keyFields\": \"week\",\n",
    "          \"valueFields\": \"total\",\n",
    "          \"aggregation\": \"SUM\",\n",
    "          \"rendererId\": \"bokeh\"\n",
    "        }\n",
    "    }"
   ]
  },
  {
   "cell_type": "markdown",
   "metadata": {},
   "source": [
    "## Use display to get the chart options JSON payload"
   ]
  },
  {
   "cell_type": "code",
   "execution_count": 3,
   "metadata": {
    "pixiedust": {
     "displayParams": {
      "aggregation": "SUM",
      "chartsize": "100",
      "handlerId": "lineChart",
      "keyFields": "week",
      "logx": "false",
      "logy": "false",
      "rendererId": "bokeh",
      "rowCount": "500",
      "valueFields": "total"
     }
    }
   },
   "outputs": [
    {
     "data": {
      "text/html": [
       "<style type=\"text/css\">.pd_warning{display:none;}</style><div class=\"pd_warning\"><em>Hey, there's something awesome here! To see it, open this notebook outside GitHub, in a viewer like Jupyter</em></div>\n",
       "        <div class=\"pd_save is-viewer-good\" style=\"padding-right:10px;text-align: center;line-height:initial !important;font-size: xx-large;font-weight: 500;color: coral;\">\n",
       "            \n",
       "        </div>\n",
       "    <div id=\"chartFigure8a0c0fa2\" class=\"pd_save is-viewer-good\" style=\"overflow-x:auto\">\n",
       "            \n",
       "                <div style=\"min-height: 50px;\">\n",
       "                    <div style=\"color: red;position: absolute;bottom: 0;left: 0;\">list index out of range</div>\n",
       "                </div>\n",
       "            \n",
       "        </div>"
      ],
      "text/plain": [
       "<IPython.core.display.HTML object>"
      ]
     },
     "metadata": {},
     "output_type": "display_data"
    }
   ],
   "source": [
    "display(load_commit_activity(\"ibm-watson-data-lab\",\"pixiedust\")[\"pdf\"])"
   ]
  },
  {
   "cell_type": "markdown",
   "metadata": {},
   "source": [
    "## Create the array that controls the type of data being analyzed"
   ]
  },
  {
   "cell_type": "code",
   "execution_count": 4,
   "metadata": {},
   "outputs": [],
   "source": [
    "analyses = [(\"Commit Activity\", load_commit_activity)]"
   ]
  },
  {
   "cell_type": "markdown",
   "metadata": {},
   "source": [
    "## Implement the RepoAnalysis PixieApp that is responsible for visualizing the data"
   ]
  },
  {
   "cell_type": "code",
   "execution_count": 12,
   "metadata": {
    "pixiedust": {
     "displayParams": {}
    }
   },
   "outputs": [],
   "source": [
    "from pixiedust.display.app import *\n",
    "import requests\n",
    "import pandas\n",
    "\n",
    "class RepoAnalysis():\n",
    "    def setup(self):\n",
    "        self.show_stats = False\n",
    "\n",
    "    @route(analyse_repo_owner=\"*\", analyse_repo_name=\"*\")\n",
    "    @templateArgs\n",
    "    def do_analyse_repo(self, analyse_repo_owner, analyse_repo_name):\n",
    "        self._analyse_repo_owner = analyse_repo_owner\n",
    "        self._analyse_repo_name = analyse_repo_name\n",
    "        return \"\"\"\n",
    "<div class=\"container-fluid\">\n",
    "    <div class=\"col-sm-2\">\n",
    "        <div class=\"dropdown center-block\">\n",
    "          <button class=\"btn btn-primary dropdown-toggle\" type=\"button\" data-toggle=\"dropdown\">\n",
    "              Select Repo Data Set\n",
    "              <span class=\"caret\"></span>\n",
    "          </button>\n",
    "          <ul class=\"dropdown-menu\" style=\"list-style:none;margin:0px;padding:0px\">\n",
    "              {%for analysis,_ in this.analyses%}\n",
    "                <li>\n",
    "                    <a href=\"#\" pd_options=\"analyse_type={{analysis}}\" pd_target=\"analyse_vis{{prefix}}\"\n",
    "                        style=\"text-decoration: none;background-color:transparent\">\n",
    "                        {{analysis}}\n",
    "                    </a>\n",
    "                </li>\n",
    "              {%endfor%}\n",
    "          </ul>\n",
    "        </div>\n",
    "        <div class=\"checkbox\">\n",
    "          <label>\n",
    "              <input id=\"show_stats{{prefix}}\" type=\"checkbox\" \n",
    "                  pd_script=\"self.show_stats=('$val(show_stats{{prefix}})' == 'true')\">\n",
    "              Show Statistics\n",
    "          </label>\n",
    "        </div>\n",
    "    </div>\n",
    "    <div id=\"analyse_vis{{prefix}}\" class=\"col-sm-10\"></div>\n",
    "</div>\n",
    "\"\"\"\n",
    "    def get_pdf(self):\n",
    "        if self.show_stats:\n",
    "            summary = self.pdf.describe()\n",
    "            summary.insert(0, \"Stat\", summary.index)\n",
    "            return summary\n",
    "        return self.pdf\n",
    "    \n",
    "    @route(analyse_type=\"*\")\n",
    "    @templateArgs\n",
    "    def do_analyse_type(self, analyse_type):\n",
    "        fn = [analysis_fn for a_type,analysis_fn in analyses if a_type == analyse_type]\n",
    "        if len(fn) == 0:\n",
    "            return \"No loader function found for {{analyse_type}}\"\n",
    "        vis_info = fn[0](self._analyse_repo_owner, self._analyse_repo_name)\n",
    "        self.pdf = vis_info[\"pdf\"]\n",
    "        chart_options = {\"handlerId\":\"dataframe\"} if self.show_stats else vis_info[\"chart_options\"]\n",
    "        return \"\"\"\n",
    "        <div pd_entity=\"get_pdf()\" pd_render_onload>\n",
    "            <pd_options>{{chart_options | tojson}}</pd_options>\n",
    "        </div>\n",
    "        \"\"\""
   ]
  },
  {
   "cell_type": "markdown",
   "metadata": {},
   "source": [
    "## GitHubTracking PixieApp class\n",
    "Main PixieApp class that inherits from RepoAnalysis"
   ]
  },
  {
   "cell_type": "code",
   "execution_count": 13,
   "metadata": {
    "pixiedust": {
     "displayParams": {},
     "pixieapp": {
      "query": "pixiedust"
     }
    }
   },
   "outputs": [
    {
     "data": {
      "text/html": [
       "<style type=\"text/css\">.pd_warning{display:none;}</style><div class=\"pd_warning\"><em>Hey, there's something awesome here! To see it, open this notebook outside GitHub, in a viewer like Jupyter</em></div><script class=\"pd_save is-viewer-good\">\n",
       "                    function setChartScript() {\n",
       "                        if (!window.Bokeh) {\n",
       "                            setTimeout(setChartScript, 250)\n",
       "                        } else {\n",
       "                            var d = document.getElementById(\"pd-bkchartdiv-94614a13\")\n",
       "                            if (d){\n",
       "                                var el = document.createElement('div')\n",
       "                                el.innerHTML = `\n",
       "<script type=\"text/javascript\">\n",
       "  (function() {\n",
       "    var fn = function() {\n",
       "      Bokeh.safely(function() {\n",
       "        (function(root) {\n",
       "          function embed_document(root) {\n",
       "            \n",
       "          var docs_json = '{\"5ada4a11-3d9d-4c73-91a0-4a1bfab117b3\":{\"roots\":{\"references\":[{\"attributes\":{\"days\":[1,4,7,10,13,16,19,22,25,28]},\"id\":\"adced451-667e-4a33-8bbd-f7ddd5c45213\",\"type\":\"DaysTicker\"},{\"attributes\":{\"active_drag\":\"auto\",\"active_inspect\":\"auto\",\"active_scroll\":\"auto\",\"active_tap\":\"auto\",\"tools\":[{\"id\":\"c66e7966-f181-4ccc-9a02-82428667acb8\",\"type\":\"PanTool\"},{\"id\":\"e90fa191-3601-489d-b6ab-9922ed0a195a\",\"type\":\"WheelZoomTool\"},{\"id\":\"cf6cb80a-494a-464b-ab21-6715e502f7d2\",\"type\":\"BoxZoomTool\"},{\"id\":\"96fc9498-ec4d-44cb-834f-9b3eb8ca6cbb\",\"type\":\"SaveTool\"},{\"id\":\"982dd3b0-9724-4bf2-84e2-f28f138b1927\",\"type\":\"ResetTool\"},{\"id\":\"bd60714c-d5bd-4bd5-a0eb-0a2b0a9ad2bf\",\"type\":\"HelpTool\"}]},\"id\":\"6fc9f3e4-62a3-404b-abc1-857df064bcfd\",\"type\":\"Toolbar\"},{\"attributes\":{\"children\":[{\"id\":\"a17bc5b8-c39f-4f0e-8122-5db3ac27254b\",\"type\":\"ToolbarBox\"},{\"id\":\"8eb9e606-939f-4be7-8990-7e18991d3946\",\"type\":\"Column\"}]},\"id\":\"124497ec-c69b-4717-883a-87d5d528db19\",\"type\":\"Column\"},{\"attributes\":{\"callback\":null},\"id\":\"721b74de-8df6-41c0-8cf6-0b64e6b51dca\",\"type\":\"DataRange1d\"},{\"attributes\":{\"children\":[{\"id\":\"f6711e7c-5d46-479c-8cd4-5a49a6e0aca0\",\"subtype\":\"Figure\",\"type\":\"Plot\"}]},\"id\":\"b73596e7-e283-4d7c-b5aa-ce5450c44c11\",\"type\":\"Row\"},{\"attributes\":{\"children\":[{\"id\":\"b73596e7-e283-4d7c-b5aa-ce5450c44c11\",\"type\":\"Row\"}]},\"id\":\"8eb9e606-939f-4be7-8990-7e18991d3946\",\"type\":\"Column\"},{\"attributes\":{},\"id\":\"ff9ffea4-3646-4abc-93fb-065aadb2b05e\",\"type\":\"BasicTicker\"},{\"attributes\":{},\"id\":\"12592bac-0dc5-4920-9b4e-235d71339c68\",\"type\":\"YearsTicker\"},{\"attributes\":{},\"id\":\"bd60714c-d5bd-4bd5-a0eb-0a2b0a9ad2bf\",\"type\":\"HelpTool\"},{\"attributes\":{\"line_alpha\":0.1,\"line_color\":\"#1f77b4\",\"line_width\":2,\"x\":{\"field\":\"x\"},\"y\":{\"field\":\"y\"}},\"id\":\"f1c63fe2-9c0f-4a2f-b857-657ce3c2d800\",\"type\":\"Line\"},{\"attributes\":{},\"id\":\"2f612605-a893-4d70-b5dc-15c37c101002\",\"type\":\"BasicTickFormatter\"},{\"attributes\":{\"axis_label\":\"week\",\"formatter\":{\"id\":\"a795a5f0-2b31-4ac0-b01a-0b27c3cab7f6\",\"type\":\"DatetimeTickFormatter\"},\"plot\":{\"id\":\"f6711e7c-5d46-479c-8cd4-5a49a6e0aca0\",\"subtype\":\"Figure\",\"type\":\"Plot\"},\"ticker\":{\"id\":\"89a169da-9d11-4c08-83ad-d1e2d10c010b\",\"type\":\"DatetimeTicker\"}},\"id\":\"9a5e1f37-ae1b-434b-a149-e486d92b49d0\",\"type\":\"DatetimeAxis\"},{\"attributes\":{},\"id\":\"e90fa191-3601-489d-b6ab-9922ed0a195a\",\"type\":\"WheelZoomTool\"},{\"attributes\":{\"callback\":null,\"column_names\":[\"x\",\"y\"],\"data\":{\"x\":[1494100800000.0,1494705600000.0,1495310400000.0,1495915200000.0,1496520000000.0,1497124800000.0,1497729600000.0,1498334400000.0,1498939200000.0,1499544000000.0,1500148800000.0,1500753600000.0,1501358400000.0,1501963200000.0,1502568000000.0,1503172800000.0,1503777600000.0,1504382400000.0,1504987200000.0,1505592000000.0,1506196800000.0,1506801600000.0,1507406400000.0,1508011200000.0,1508616000000.0,1509220800000.0,1509825600000.0,1510426800000.0,1511031600000.0,1511636400000.0,1512241200000.0,1512846000000.0,1513450800000.0,1514055600000.0,1514660400000.0,1515265200000.0,1515870000000.0,1516474800000.0,1517079600000.0,1517684400000.0,1518289200000.0,1518894000000.0,1519498800000.0,1520103600000.0,1520708400000.0,1521316800000.0,1521921600000.0,1522526400000.0,1523131200000.0,1523736000000.0,1524340800000.0,1524945600000.0],\"y\":[4,14,8,12,7,15,6,5,11,14,2,12,27,2,0,3,6,8,2,5,9,10,14,10,4,5,12,0,1,16,12,15,31,3,3,3,8,10,31,55,9,5,17,16,18,2,3,1,0,2,1,0]}},\"id\":\"3dd3030e-4f3a-4842-b176-2915349320ee\",\"type\":\"ColumnDataSource\"},{\"attributes\":{\"months\":[0,1,2,3,4,5,6,7,8,9,10,11]},\"id\":\"a9e46f56-29b7-4042-8361-cd0702eaacc5\",\"type\":\"MonthsTicker\"},{\"attributes\":{\"label\":{\"value\":\"total\"},\"renderers\":[{\"id\":\"a5c03a6d-b76c-49e7-8748-18f20f864a20\",\"type\":\"GlyphRenderer\"}]},\"id\":\"35f58302-b987-4fa1-b52f-7cdbfab6af51\",\"type\":\"LegendItem\"},{\"attributes\":{\"bottom_units\":\"screen\",\"fill_alpha\":{\"value\":0.5},\"fill_color\":{\"value\":\"lightgrey\"},\"left_units\":\"screen\",\"level\":\"overlay\",\"line_alpha\":{\"value\":1.0},\"line_color\":{\"value\":\"black\"},\"line_dash\":[4,4],\"line_width\":{\"value\":2},\"plot\":null,\"render_mode\":\"css\",\"right_units\":\"screen\",\"top_units\":\"screen\"},\"id\":\"38ac11a2-4f25-4089-b401-9b7a85fdbd2a\",\"type\":\"BoxAnnotation\"},{\"attributes\":{\"base\":24,\"mantissas\":[1,2,4,6,8,12],\"max_interval\":43200000.0,\"min_interval\":3600000.0,\"num_minor_ticks\":0},\"id\":\"06254b0c-7351-4c0a-8f96-1e761df1f7b3\",\"type\":\"AdaptiveTicker\"},{\"attributes\":{},\"id\":\"c66e7966-f181-4ccc-9a02-82428667acb8\",\"type\":\"PanTool\"},{\"attributes\":{\"months\":[0,2,4,6,8,10]},\"id\":\"9f03af76-8a59-4529-9658-f2ad43277490\",\"type\":\"MonthsTicker\"},{\"attributes\":{\"days\":[1,8,15,22]},\"id\":\"2731d06a-6398-47c4-9151-f2a03bbaa8d9\",\"type\":\"DaysTicker\"},{\"attributes\":{\"days\":[1,15]},\"id\":\"c43ed1f3-db05-4888-929f-a124c7f5540d\",\"type\":\"DaysTicker\"},{\"attributes\":{\"data_source\":{\"id\":\"3dd3030e-4f3a-4842-b176-2915349320ee\",\"type\":\"ColumnDataSource\"},\"glyph\":{\"id\":\"4aa41167-5174-4de8-9a71-6d6f332c4429\",\"type\":\"Line\"},\"hover_glyph\":null,\"muted_glyph\":null,\"nonselection_glyph\":{\"id\":\"f1c63fe2-9c0f-4a2f-b857-657ce3c2d800\",\"type\":\"Line\"},\"selection_glyph\":null,\"view\":{\"id\":\"11971898-b6b6-4226-9a08-2ed0bcb83482\",\"type\":\"CDSView\"}},\"id\":\"a5c03a6d-b76c-49e7-8748-18f20f864a20\",\"type\":\"GlyphRenderer\"},{\"attributes\":{},\"id\":\"a795a5f0-2b31-4ac0-b01a-0b27c3cab7f6\",\"type\":\"DatetimeTickFormatter\"},{\"attributes\":{\"months\":[0,6]},\"id\":\"48ae5e56-8ff6-4221-82e5-3bf1747f7096\",\"type\":\"MonthsTicker\"},{\"attributes\":{},\"id\":\"982dd3b0-9724-4bf2-84e2-f28f138b1927\",\"type\":\"ResetTool\"},{\"attributes\":{\"dimension\":1,\"plot\":{\"id\":\"f6711e7c-5d46-479c-8cd4-5a49a6e0aca0\",\"subtype\":\"Figure\",\"type\":\"Plot\"},\"ticker\":{\"id\":\"ff9ffea4-3646-4abc-93fb-065aadb2b05e\",\"type\":\"BasicTicker\"}},\"id\":\"2bff4f83-1646-430c-9f18-ed5261d93038\",\"type\":\"Grid\"},{\"attributes\":{},\"id\":\"5d931df4-7455-431d-a12f-5198970eee3b\",\"type\":\"LinearScale\"},{\"attributes\":{\"axis_label\":\"total\",\"formatter\":{\"id\":\"2f612605-a893-4d70-b5dc-15c37c101002\",\"type\":\"BasicTickFormatter\"},\"plot\":{\"id\":\"f6711e7c-5d46-479c-8cd4-5a49a6e0aca0\",\"subtype\":\"Figure\",\"type\":\"Plot\"},\"ticker\":{\"id\":\"ff9ffea4-3646-4abc-93fb-065aadb2b05e\",\"type\":\"BasicTicker\"}},\"id\":\"24ff1e52-7306-43ad-aaa5-f072281de733\",\"type\":\"LinearAxis\"},{\"attributes\":{\"items\":[{\"id\":\"35f58302-b987-4fa1-b52f-7cdbfab6af51\",\"type\":\"LegendItem\"}],\"location\":\"top_left\",\"plot\":{\"id\":\"f6711e7c-5d46-479c-8cd4-5a49a6e0aca0\",\"subtype\":\"Figure\",\"type\":\"Plot\"}},\"id\":\"024c0244-82de-4a18-819b-d567011f85b7\",\"type\":\"Legend\"},{\"attributes\":{\"days\":[1,2,3,4,5,6,7,8,9,10,11,12,13,14,15,16,17,18,19,20,21,22,23,24,25,26,27,28,29,30,31]},\"id\":\"e8e605be-98aa-4b20-8740-895be99368c5\",\"type\":\"DaysTicker\"},{\"attributes\":{\"num_minor_ticks\":5,\"tickers\":[{\"id\":\"37afcaab-f74e-4cba-ad99-8ef0b8ab5e4a\",\"type\":\"AdaptiveTicker\"},{\"id\":\"59e8a3cf-fb59-443d-ad61-10ccf21c6ece\",\"type\":\"AdaptiveTicker\"},{\"id\":\"06254b0c-7351-4c0a-8f96-1e761df1f7b3\",\"type\":\"AdaptiveTicker\"},{\"id\":\"e8e605be-98aa-4b20-8740-895be99368c5\",\"type\":\"DaysTicker\"},{\"id\":\"adced451-667e-4a33-8bbd-f7ddd5c45213\",\"type\":\"DaysTicker\"},{\"id\":\"2731d06a-6398-47c4-9151-f2a03bbaa8d9\",\"type\":\"DaysTicker\"},{\"id\":\"c43ed1f3-db05-4888-929f-a124c7f5540d\",\"type\":\"DaysTicker\"},{\"id\":\"a9e46f56-29b7-4042-8361-cd0702eaacc5\",\"type\":\"MonthsTicker\"},{\"id\":\"9f03af76-8a59-4529-9658-f2ad43277490\",\"type\":\"MonthsTicker\"},{\"id\":\"5e67c35f-69b3-4439-a0ff-fbbd664b3c9c\",\"type\":\"MonthsTicker\"},{\"id\":\"48ae5e56-8ff6-4221-82e5-3bf1747f7096\",\"type\":\"MonthsTicker\"},{\"id\":\"12592bac-0dc5-4920-9b4e-235d71339c68\",\"type\":\"YearsTicker\"}]},\"id\":\"89a169da-9d11-4c08-83ad-d1e2d10c010b\",\"type\":\"DatetimeTicker\"},{\"attributes\":{\"line_color\":\"#1f77b4\",\"line_width\":2,\"x\":{\"field\":\"x\"},\"y\":{\"field\":\"y\"}},\"id\":\"4aa41167-5174-4de8-9a71-6d6f332c4429\",\"type\":\"Line\"},{\"attributes\":{\"overlay\":{\"id\":\"38ac11a2-4f25-4089-b401-9b7a85fdbd2a\",\"type\":\"BoxAnnotation\"}},\"id\":\"cf6cb80a-494a-464b-ab21-6715e502f7d2\",\"type\":\"BoxZoomTool\"},{\"attributes\":{},\"id\":\"96fc9498-ec4d-44cb-834f-9b3eb8ca6cbb\",\"type\":\"SaveTool\"},{\"attributes\":{\"months\":[0,4,8]},\"id\":\"5e67c35f-69b3-4439-a0ff-fbbd664b3c9c\",\"type\":\"MonthsTicker\"},{\"attributes\":{\"source\":{\"id\":\"3dd3030e-4f3a-4842-b176-2915349320ee\",\"type\":\"ColumnDataSource\"}},\"id\":\"11971898-b6b6-4226-9a08-2ed0bcb83482\",\"type\":\"CDSView\"},{\"attributes\":{\"mantissas\":[1,2,5],\"max_interval\":500.0,\"num_minor_ticks\":0},\"id\":\"37afcaab-f74e-4cba-ad99-8ef0b8ab5e4a\",\"type\":\"AdaptiveTicker\"},{\"attributes\":{\"plot\":{\"id\":\"f6711e7c-5d46-479c-8cd4-5a49a6e0aca0\",\"subtype\":\"Figure\",\"type\":\"Plot\"},\"ticker\":{\"id\":\"89a169da-9d11-4c08-83ad-d1e2d10c010b\",\"type\":\"DatetimeTicker\"}},\"id\":\"9a27b6cc-0774-4cc1-90bf-e06d910cd73c\",\"type\":\"Grid\"},{\"attributes\":{\"toolbar\":{\"id\":\"f831f020-a852-4ec1-b725-766a81f06ec9\",\"type\":\"ProxyToolbar\"},\"toolbar_location\":\"above\"},\"id\":\"a17bc5b8-c39f-4f0e-8122-5db3ac27254b\",\"type\":\"ToolbarBox\"},{\"attributes\":{\"callback\":null},\"id\":\"1c764729-6b20-49cd-a796-3600853a3d9a\",\"type\":\"DataRange1d\"},{\"attributes\":{},\"id\":\"b6590886-36e5-4484-9534-7f8b7d141b03\",\"type\":\"LinearScale\"},{\"attributes\":{\"base\":60,\"mantissas\":[1,2,5,10,15,20,30],\"max_interval\":1800000.0,\"min_interval\":1000.0,\"num_minor_ticks\":0},\"id\":\"59e8a3cf-fb59-443d-ad61-10ccf21c6ece\",\"type\":\"AdaptiveTicker\"},{\"attributes\":{\"below\":[{\"id\":\"9a5e1f37-ae1b-434b-a149-e486d92b49d0\",\"type\":\"DatetimeAxis\"}],\"left\":[{\"id\":\"24ff1e52-7306-43ad-aaa5-f072281de733\",\"type\":\"LinearAxis\"}],\"plot_height\":495,\"plot_width\":752,\"renderers\":[{\"id\":\"9a5e1f37-ae1b-434b-a149-e486d92b49d0\",\"type\":\"DatetimeAxis\"},{\"id\":\"9a27b6cc-0774-4cc1-90bf-e06d910cd73c\",\"type\":\"Grid\"},{\"id\":\"24ff1e52-7306-43ad-aaa5-f072281de733\",\"type\":\"LinearAxis\"},{\"id\":\"2bff4f83-1646-430c-9f18-ed5261d93038\",\"type\":\"Grid\"},{\"id\":\"38ac11a2-4f25-4089-b401-9b7a85fdbd2a\",\"type\":\"BoxAnnotation\"},{\"id\":\"024c0244-82de-4a18-819b-d567011f85b7\",\"type\":\"Legend\"},{\"id\":\"a5c03a6d-b76c-49e7-8748-18f20f864a20\",\"type\":\"GlyphRenderer\"}],\"title\":null,\"toolbar\":{\"id\":\"6fc9f3e4-62a3-404b-abc1-857df064bcfd\",\"type\":\"Toolbar\"},\"toolbar_location\":null,\"x_range\":{\"id\":\"1c764729-6b20-49cd-a796-3600853a3d9a\",\"type\":\"DataRange1d\"},\"x_scale\":{\"id\":\"b6590886-36e5-4484-9534-7f8b7d141b03\",\"type\":\"LinearScale\"},\"y_range\":{\"id\":\"721b74de-8df6-41c0-8cf6-0b64e6b51dca\",\"type\":\"DataRange1d\"},\"y_scale\":{\"id\":\"5d931df4-7455-431d-a12f-5198970eee3b\",\"type\":\"LinearScale\"}},\"id\":\"f6711e7c-5d46-479c-8cd4-5a49a6e0aca0\",\"subtype\":\"Figure\",\"type\":\"Plot\"},{\"attributes\":{\"tools\":[{\"id\":\"c66e7966-f181-4ccc-9a02-82428667acb8\",\"type\":\"PanTool\"},{\"id\":\"e90fa191-3601-489d-b6ab-9922ed0a195a\",\"type\":\"WheelZoomTool\"},{\"id\":\"cf6cb80a-494a-464b-ab21-6715e502f7d2\",\"type\":\"BoxZoomTool\"},{\"id\":\"96fc9498-ec4d-44cb-834f-9b3eb8ca6cbb\",\"type\":\"SaveTool\"},{\"id\":\"982dd3b0-9724-4bf2-84e2-f28f138b1927\",\"type\":\"ResetTool\"},{\"id\":\"bd60714c-d5bd-4bd5-a0eb-0a2b0a9ad2bf\",\"type\":\"HelpTool\"}]},\"id\":\"f831f020-a852-4ec1-b725-766a81f06ec9\",\"type\":\"ProxyToolbar\"}],\"root_ids\":[\"124497ec-c69b-4717-883a-87d5d528db19\"]},\"title\":\"Bokeh Application\",\"version\":\"0.12.13\"}}';\n",
       "          var render_items = [{\"docid\":\"5ada4a11-3d9d-4c73-91a0-4a1bfab117b3\",\"elementid\":\"68883552-ad3f-43bc-bd27-0df58f448899\",\"modelid\":\"124497ec-c69b-4717-883a-87d5d528db19\"}];\n",
       "          root.Bokeh.embed.embed_items(docs_json, render_items);\n",
       "        \n",
       "          }\n",
       "          if (root.Bokeh !== undefined) {\n",
       "            embed_document(root);\n",
       "          } else {\n",
       "            var attempts = 0;\n",
       "            var timer = setInterval(function(root) {\n",
       "              if (root.Bokeh !== undefined) {\n",
       "                embed_document(root);\n",
       "                clearInterval(timer);\n",
       "              }\n",
       "              attempts++;\n",
       "              if (attempts > 100) {\n",
       "                console.log(\"Bokeh: ERROR: Unable to run BokehJS code because BokehJS library is missing\")\n",
       "                clearInterval(timer);\n",
       "              }\n",
       "            }, 10, root)\n",
       "          }\n",
       "        })(window);\n",
       "      });\n",
       "    };\n",
       "    if (document.readyState != \"loading\") fn();\n",
       "    else document.addEventListener(\"DOMContentLoaded\", fn);\n",
       "  })();\n",
       "<\\/script>`\n",
       "                                var chartscript = el.childNodes[1]\n",
       "                                var s = document.createElement(\"script\")\n",
       "                                s.innerHTML = chartscript.innerHTML\n",
       "                                d.parentNode.insertBefore(s, d)\n",
       "                            }\n",
       "                        }\n",
       "                    }\n",
       "                    if (!window.Bokeh && !window.autoload){\n",
       "                        window.autoload=true;\n",
       "                        \n",
       "(function(root) {\n",
       "  function now() {\n",
       "    return new Date();\n",
       "  }\n",
       "\n",
       "  var force = 1;\n",
       "\n",
       "  if (typeof (root._bokeh_onload_callbacks) === \"undefined\" || force === true) {\n",
       "    root._bokeh_onload_callbacks = [];\n",
       "    root._bokeh_is_loading = undefined;\n",
       "  }\n",
       "\n",
       "  \n",
       "\n",
       "  \n",
       "  if (typeof (root._bokeh_timeout) === \"undefined\" || force === true) {\n",
       "    root._bokeh_timeout = Date.now() + 5000;\n",
       "    root._bokeh_failed_load = false;\n",
       "  }\n",
       "\n",
       "  var NB_LOAD_WARNING = {'data': {'text/html':\n",
       "     \"<div style='background-color: #fdd'>\\n\"+\n",
       "     \"<p>\\n\"+\n",
       "     \"BokehJS does not appear to have successfully loaded. If loading BokehJS from CDN, this \\n\"+\n",
       "     \"may be due to a slow or bad network connection. Possible fixes:\\n\"+\n",
       "     \"</p>\\n\"+\n",
       "     \"<ul>\\n\"+\n",
       "     \"<li>re-rerun `output_notebook()` to attempt to load from CDN again, or</li>\\n\"+\n",
       "     \"<li>use INLINE resources instead, as so:</li>\\n\"+\n",
       "     \"</ul>\\n\"+\n",
       "     \"<code>\\n\"+\n",
       "     \"from bokeh.resources import INLINE\\n\"+\n",
       "     \"output_notebook(resources=INLINE)\\n\"+\n",
       "     \"</code>\\n\"+\n",
       "     \"</div>\"}};\n",
       "\n",
       "  function display_loaded() {\n",
       "    var el = document.getElementById(\"\");\n",
       "    if (el != null) {\n",
       "      el.textContent = \"BokehJS is loading...\";\n",
       "    }\n",
       "    if (root.Bokeh !== undefined) {\n",
       "      if (el != null) {\n",
       "        el.textContent = \"BokehJS \" + root.Bokeh.version + \" successfully loaded.\";\n",
       "      }\n",
       "    } else if (Date.now() < root._bokeh_timeout) {\n",
       "      setTimeout(display_loaded, 100)\n",
       "    }\n",
       "  }\n",
       "\n",
       "\n",
       "  function run_callbacks() {\n",
       "    try {\n",
       "      root._bokeh_onload_callbacks.forEach(function(callback) { callback() });\n",
       "    }\n",
       "    finally {\n",
       "      delete root._bokeh_onload_callbacks\n",
       "    }\n",
       "    console.info(\"Bokeh: all callbacks have finished\");\n",
       "  }\n",
       "\n",
       "  function load_libs(js_urls, callback) {\n",
       "    root._bokeh_onload_callbacks.push(callback);\n",
       "    if (root._bokeh_is_loading > 0) {\n",
       "      console.log(\"Bokeh: BokehJS is being loaded, scheduling callback at\", now());\n",
       "      return null;\n",
       "    }\n",
       "    if (js_urls == null || js_urls.length === 0) {\n",
       "      run_callbacks();\n",
       "      return null;\n",
       "    }\n",
       "    console.log(\"Bokeh: BokehJS not loaded, scheduling load and callback at\", now());\n",
       "    root._bokeh_is_loading = js_urls.length;\n",
       "    for (var i = 0; i < js_urls.length; i++) {\n",
       "      var url = js_urls[i];\n",
       "      var s = document.createElement('script');\n",
       "      s.src = url;\n",
       "      s.async = false;\n",
       "      s.onreadystatechange = s.onload = function() {\n",
       "        root._bokeh_is_loading--;\n",
       "        if (root._bokeh_is_loading === 0) {\n",
       "          console.log(\"Bokeh: all BokehJS libraries loaded\");\n",
       "          run_callbacks()\n",
       "        }\n",
       "      };\n",
       "      s.onerror = function() {\n",
       "        console.warn(\"failed to load library \" + url);\n",
       "      };\n",
       "      console.log(\"Bokeh: injecting script tag for BokehJS library: \", url);\n",
       "      document.getElementsByTagName(\"head\")[0].appendChild(s);\n",
       "    }\n",
       "  };\n",
       "\n",
       "  var js_urls = [\"https://cdn.pydata.org/bokeh/release/bokeh-0.12.13.min.js\", \"https://cdn.pydata.org/bokeh/release/bokeh-widgets-0.12.13.min.js\", \"https://cdn.pydata.org/bokeh/release/bokeh-tables-0.12.13.min.js\", \"https://cdn.pydata.org/bokeh/release/bokeh-gl-0.12.13.min.js\"];\n",
       "\n",
       "  var inline_js = [\n",
       "    function(Bokeh) {\n",
       "      Bokeh.set_log_level(\"info\");\n",
       "    },\n",
       "    function(Bokeh) {\n",
       "      console.log(\"Bokeh: injecting CSS: https://cdn.pydata.org/bokeh/release/bokeh-0.12.13.min.css\");\n",
       "      Bokeh.embed.inject_css(\"https://cdn.pydata.org/bokeh/release/bokeh-0.12.13.min.css\");\n",
       "      console.log(\"Bokeh: injecting CSS: https://cdn.pydata.org/bokeh/release/bokeh-widgets-0.12.13.min.css\");\n",
       "      Bokeh.embed.inject_css(\"https://cdn.pydata.org/bokeh/release/bokeh-widgets-0.12.13.min.css\");\n",
       "      console.log(\"Bokeh: injecting CSS: https://cdn.pydata.org/bokeh/release/bokeh-tables-0.12.13.min.css\");\n",
       "      Bokeh.embed.inject_css(\"https://cdn.pydata.org/bokeh/release/bokeh-tables-0.12.13.min.css\");\n",
       "    }\n",
       "  ];\n",
       "\n",
       "  function run_inline_js() {\n",
       "    \n",
       "    if ((root.Bokeh !== undefined) || (force === true)) {\n",
       "      for (var i = 0; i < inline_js.length; i++) {\n",
       "        inline_js[i].call(root, root.Bokeh);\n",
       "      }} else if (Date.now() < root._bokeh_timeout) {\n",
       "      setTimeout(run_inline_js, 100);\n",
       "    } else if (!root._bokeh_failed_load) {\n",
       "      console.log(\"Bokeh: BokehJS failed to load within specified timeout.\");\n",
       "      root._bokeh_failed_load = true;\n",
       "    } else if (force !== true) {\n",
       "      var cell = $(document.getElementById(\"\")).parents('.cell').data().cell;\n",
       "      cell.output_area.append_execute_result(NB_LOAD_WARNING)\n",
       "    }\n",
       "\n",
       "  }\n",
       "\n",
       "  if (root._bokeh_is_loading === 0) {\n",
       "    console.log(\"Bokeh: BokehJS loaded, going straight to plotting\");\n",
       "    run_inline_js();\n",
       "  } else {\n",
       "    load_libs(js_urls, function() {\n",
       "      console.log(\"Bokeh: BokehJS plotting callback run at\", now());\n",
       "      run_inline_js();\n",
       "    });\n",
       "  }\n",
       "}(window));\n",
       "                    }\n",
       "                    setChartScript()\n",
       "                    </script>"
      ],
      "text/plain": [
       "<IPython.core.display.HTML object>"
      ]
     },
     "metadata": {},
     "output_type": "display_data"
    }
   ],
   "source": [
    "@PixieApp\n",
    "class GitHubTracking(RepoAnalysis):\n",
    "    \"\"\"\n",
    "    GitHub Tracking Sample Application\n",
    "    \"\"\"\n",
    "    @route()\n",
    "    def main_screen(self):\n",
    "        return \"\"\"\n",
    "<style>\n",
    "    div.outer-wrapper {\n",
    "        display: table;width:100%;height:300px;\n",
    "    }\n",
    "    div.inner-wrapper {\n",
    "        display: table-cell;vertical-align: middle;height: 100%;width: 100%;\n",
    "    }\n",
    "</style>\n",
    "<div class=\"outer-wrapper\">\n",
    "    <div class=\"inner-wrapper\">\n",
    "        <div class=\"col-sm-3\"></div>\n",
    "        <div class=\"input-group col-sm-6\">\n",
    "          <input id=\"query{{prefix}}\" type=\"text\" class=\"form-control\" placeholder=\"Search projects on GitHub\">\n",
    "          <span class=\"input-group-btn\">\n",
    "            <button class=\"btn btn-default\" type=\"button\" pd_options=\"query=$val(query{{prefix}})\">Submit Query</button>\n",
    "          </span>\n",
    "        </div>\n",
    "    </div>\n",
    "</div>   \n",
    "\"\"\"\n",
    "    @route(query=\"*\", persist_args='true')\n",
    "    @templateArgs\n",
    "    def do_search(self, query):\n",
    "        self.first_url = \"https://api.github.com/search/repositories?q={}\".format(query)\n",
    "        self.prev_url = None\n",
    "        self.next_url = None\n",
    "        self.last_url = None\n",
    "        \n",
    "        response = requests.get(self.first_url)\n",
    "        if not response.ok:\n",
    "            return \"<div>An Error occurred: {{response.text}}</div>\"\n",
    "\n",
    "        total_count = response.json()['total_count']\n",
    "        self.next_url = response.links.get('next', {}).get('url', None)\n",
    "        self.last_url = response.links.get('last', {}).get('url', None)\n",
    "        return \"\"\"\n",
    "<h1><center>{{total_count}} repositories were found</center></h1>\n",
    "<ul class=\"pagination\">\n",
    "  <li><a href=\"#\" pd_options=\"page=first_url\" pd_target=\"body{{prefix}}\">First</a></li>\n",
    "  <li><a href=\"#\" pd_options=\"page=prev_url\" pd_target=\"body{{prefix}}\">Prev</a></li>\n",
    "  <li><a href=\"#\" pd_options=\"page=next_url\" pd_target=\"body{{prefix}}\">Next</a></li>\n",
    "  <li><a href=\"#\" pd_options=\"page=last_url\" pd_target=\"body{{prefix}}\">Last</a></li>\n",
    "</ul>\n",
    "<table class=\"table\">\n",
    "    <thead>\n",
    "        <tr>\n",
    "            <th>Repo Name</th>\n",
    "            <th>Lastname</th>\n",
    "            <th>URL</th>\n",
    "            <th>Stars</th>\n",
    "            <th>Actions</th>\n",
    "        </tr>\n",
    "    </thead>\n",
    "    <tbody id=\"body{{prefix}}\">\n",
    "        {{this.invoke_route(this.do_retrieve_page, page='first_url')}}\n",
    "    </tbody>\n",
    "</table>\n",
    "\"\"\"\n",
    "    @route(page=\"*\")\n",
    "    @templateArgs\n",
    "    def do_retrieve_page(self, page):\n",
    "        url = getattr(self, page)\n",
    "        if url is None:\n",
    "            return \"<div>No more rows</div>\"\n",
    "        response = requests.get(url)\n",
    "        self.prev_url = response.links.get('prev', {}).get('url', None)\n",
    "        self.next_url = response.links.get('next', {}).get('url', None)\n",
    "        items = response.json()['items']\n",
    "        return \"\"\"\n",
    "{%for row in items%}\n",
    "<tr>\n",
    "    <td>{{row['name']}}</td>\n",
    "    <td>{{row.get('owner',{}).get('login', 'N/A')}}</td>\n",
    "    <td><a href=\"{{row['html_url']}}\" target=\"_blank\">{{row['html_url']}}</a></td>\n",
    "    <td>{{row['stargazers_count']}}</td>\n",
    "    <td>\n",
    "        <button pd_options=\"analyse_repo_owner={{row[\"owner\"][\"login\"]}};analyse_repo_name={{row['name']}}\" \n",
    "            class=\"btn btn-default btn-sm\" title=\"Analyze Repo\">\n",
    "            <i class=\"fa fa-line-chart\"></i>\n",
    "        </button>\n",
    "    </td>\n",
    "</tr>\n",
    "{%endfor%}\n",
    "        \"\"\"\n",
    "\n",
    "app = GitHubTracking()\n",
    "app.run()"
   ]
  },
  {
   "cell_type": "code",
   "execution_count": 11,
   "metadata": {},
   "outputs": [
    {
     "data": {
      "text/plain": [
       "True"
      ]
     },
     "execution_count": 11,
     "metadata": {},
     "output_type": "execute_result"
    }
   ],
   "source": [
    "bool('false')"
   ]
  }
 ],
 "metadata": {
  "celltoolbar": "Edit Metadata",
  "kernelspec": {
   "display_name": "Python 3",
   "language": "python",
   "name": "python3"
  },
  "language_info": {
   "codemirror_mode": {
    "name": "ipython",
    "version": 3
   },
   "file_extension": ".py",
   "mimetype": "text/x-python",
   "name": "python",
   "nbconvert_exporter": "python",
   "pygments_lexer": "ipython3",
   "version": "3.5.4"
  }
 },
 "nbformat": 4,
 "nbformat_minor": 2
}
