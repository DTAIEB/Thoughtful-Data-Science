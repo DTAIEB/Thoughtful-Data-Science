{
 "cells": [
  {
   "cell_type": "markdown",
   "metadata": {},
   "source": [
    "# Twitter Sentiment Analysis Part 2\n",
    "## Enrich the data with Sentiment and most relevant extracted entity "
   ]
  },
  {
   "cell_type": "code",
   "execution_count": 38,
   "metadata": {},
   "outputs": [],
   "source": [
    "# uncomment and run the line below to install tweepy if needed\n",
    "# !pip install tweepy"
   ]
  },
  {
   "cell_type": "markdown",
   "metadata": {},
   "source": [
    "## Set up twitter authentication\n",
    "Make sure to fill in the tokens below before running this cell"
   ]
  },
  {
   "cell_type": "code",
   "execution_count": 1,
   "metadata": {},
   "outputs": [],
   "source": [
    "from tweepy import OAuthHandler\n",
    "\n",
    "# Go to http://apps.twitter.com and create an app.\n",
    "# The consumer key and secret will be generated for you after\n",
    "consumer_key=\"XXXXX\"\n",
    "consumer_secret=\"XXXXX\"\n",
    "\n",
    "# After the step above, you will be redirected to your app's page.\n",
    "# Create an access token under the the \"Your access token\" section\n",
    "access_token=\"XXXXX\"\n",
    "access_token_secret=\"XXXXX\"\n",
    "\n",
    "auth = OAuthHandler(consumer_key, consumer_secret)\n",
    "auth.set_access_token(access_token, access_token_secret)"
   ]
  },
  {
   "cell_type": "markdown",
   "metadata": {},
   "source": [
    "# Set up a Natural Language Understanding client instance"
   ]
  },
  {
   "cell_type": "code",
   "execution_count": 2,
   "metadata": {},
   "outputs": [],
   "source": [
    "from watson_developer_cloud import NaturalLanguageUnderstandingV1\n",
    "from watson_developer_cloud.natural_language_understanding_v1 import Features, SentimentOptions, EntitiesOptions\n",
    "\n",
    "nlu = NaturalLanguageUnderstandingV1(\n",
    "    version='2017-02-27',\n",
    "    username='XXXXX',\n",
    "    password='XXXXX'\n",
    ")"
   ]
  },
  {
   "cell_type": "markdown",
   "metadata": {},
   "source": [
    "## Create the Twitter Stream"
   ]
  },
  {
   "cell_type": "code",
   "execution_count": 3,
   "metadata": {},
   "outputs": [
    {
     "name": "stdout",
     "output_type": "stream",
     "text": [
      "Pixiedust database opened successfully\n"
     ]
    },
    {
     "data": {
      "text/html": [
       "\n",
       "        <div style=\"margin:10px\">\n",
       "            <a href=\"https://github.com/ibm-watson-data-lab/pixiedust\" target=\"_new\">\n",
       "                <img src=\"https://github.com/ibm-watson-data-lab/pixiedust/raw/master/docs/_static/pd_icon32.png\" style=\"float:left;margin-right:10px\"/>\n",
       "            </a>\n",
       "            <span>Pixiedust version 1.1.9</span>\n",
       "        </div>\n",
       "        "
      ],
      "text/plain": [
       "<IPython.core.display.HTML object>"
      ]
     },
     "metadata": {},
     "output_type": "display_data"
    }
   ],
   "source": [
    "from tweepy.streaming import StreamListener\n",
    "from pixiedust.utils import Logger\n",
    "from tweepy import Stream\n",
    "from six import iteritems\n",
    "import json\n",
    "import csv\n",
    "import shutil\n",
    "from bs4 import BeautifulSoup as BS\n",
    "from pyspark.sql.types import StructType, StructField, StringType, DateType\n",
    "\n",
    "def ensure_dir(dir, delete_tree = False):\n",
    "    if not os.path.exists(dir):\n",
    "        os.makedirs(dir)\n",
    "    elif delete_tree:\n",
    "        shutil.rmtree(dir)\n",
    "        os.makedirs(dir)\n",
    "    return os.path.abspath(dir)\n",
    "\n",
    "root_dir = ensure_dir(\"output\", delete_tree = True)\n",
    "output_dir = ensure_dir(os.path.join(root_dir, \"raw\"))\n",
    "field_metadata = [\n",
    "    {\"name\": \"created_at\",\"type\": DateType()},\n",
    "    {\"name\": \"text\", \"type\": StringType()},\n",
    "    {\"name\": \"source\", \"type\": StringType(), \n",
    "         \"transform\": lambda s: BS(s, \"html.parser\").text.strip()\n",
    "    },\n",
    "    {\"name\": \"sentiment\", \"type\": StringType()},\n",
    "    {\"name\": \"entity\", \"type\": StringType()},\n",
    "    {\"name\": \"entity_type\", \"type\": StringType()}\n",
    "]\n",
    "fieldnames = [f[\"name\"] for f in field_metadata]\n",
    "transforms = { \n",
    "    item['name']:item['transform'] for item in field_metadata if \"transform\" in item\n",
    "}\n",
    "\n",
    "@Logger()\n",
    "class RawTweetsListener(StreamListener):\n",
    "    def __init__(self):\n",
    "        self.buffered_data = []\n",
    "        self.counter = 0\n",
    "\n",
    "    def flush_buffer_if_needed(self):\n",
    "        \"Check the buffer capacity and write to a new file if needed\"\n",
    "        length = len(self.buffered_data)\n",
    "        if length > 0 and length % 10 == 0:\n",
    "            with open(os.path.join( output_dir, \"tweets{}.csv\".format(self.counter)), \"w\") as fs:\n",
    "                self.counter += 1\n",
    "                csv_writer = csv.DictWriter( fs, fieldnames = fieldnames)\n",
    "                for data in self.buffered_data:\n",
    "                    csv_writer.writerow(data)\n",
    "            self.buffered_data = []\n",
    "            \n",
    "    def enrich(self, data):\n",
    "        try:\n",
    "            response = nlu.analyze( \n",
    "                text = data['text'],\n",
    "                features=Features(sentiment=SentimentOptions(), entities=EntitiesOptions())\n",
    "            )\n",
    "            data[\"sentiment\"] = response[\"sentiment\"][\"document\"][\"label\"]\n",
    "            top_entity = response[\"entities\"][0] if len(response[\"entities\"]) > 0 else None\n",
    "            data[\"entity\"] = top_entity[\"text\"] if top_entity is not None else \"\"\n",
    "            data[\"entity_type\"] = top_entity[\"type\"] if top_entity is not None else \"\"\n",
    "            return data\n",
    "        except Exception as e:\n",
    "            self.warn(\"Error from Watson service while enriching data: {}\".format(e))\n",
    "\n",
    "    def on_data(self, data):\n",
    "        def transform(key, value):\n",
    "            return transforms[key](value) if key in transforms else value\n",
    "        data = self.enrich(json.loads(data))\n",
    "        if data is not None:\n",
    "            self.buffered_data.append(\n",
    "                {key:transform(key,value) \\\n",
    "                     for key,value in iteritems(data) \\\n",
    "                     if key in fieldnames}\n",
    "            )\n",
    "            self.flush_buffer_if_needed()\n",
    "        return True\n",
    "\n",
    "    def on_error(self, status):\n",
    "        print(\"An error occured while receiving streaming data: {}\".format(status))\n",
    "        return False"
   ]
  },
  {
   "cell_type": "code",
   "execution_count": 4,
   "metadata": {},
   "outputs": [],
   "source": [
    "def start_stream(queries):\n",
    "    \"Asynchronously start a new Twitter stream\"\n",
    "    stream = Stream(auth, RawTweetsListener())\n",
    "    stream.filter(track=queries, async=True)\n",
    "    return stream"
   ]
  },
  {
   "cell_type": "markdown",
   "metadata": {},
   "source": [
    "## Start a new Twitter stream filtered by the keyword \"baseball\""
   ]
  },
  {
   "cell_type": "code",
   "execution_count": 5,
   "metadata": {},
   "outputs": [],
   "source": [
    "stream = start_stream([\"baseball\"])"
   ]
  },
  {
   "cell_type": "code",
   "execution_count": 6,
   "metadata": {},
   "outputs": [],
   "source": [
    "# uncomment this line to stop the twitter stream\n",
    "#stream.disconnect()"
   ]
  },
  {
   "cell_type": "markdown",
   "metadata": {},
   "source": [
    "## Create a Spark Streaming DataFrame"
   ]
  },
  {
   "cell_type": "code",
   "execution_count": 7,
   "metadata": {
    "pixiedust": {
     "displayParams": {}
    }
   },
   "outputs": [
    {
     "data": {
      "text/plain": [
       "True"
      ]
     },
     "execution_count": 7,
     "metadata": {},
     "output_type": "execute_result"
    }
   ],
   "source": [
    "schema = StructType(\n",
    "    [StructField(f[\"name\"], f[\"type\"], True) for f in field_metadata]\n",
    ")\n",
    "csv_sdf = spark.readStream \\\n",
    "    .csv(\n",
    "        output_dir,\n",
    "        schema=schema,\n",
    "        multiLine = True,\n",
    "        dateFormat = 'EEE MMM dd kk:mm:ss Z y',\n",
    "        ignoreTrailingWhiteSpace = True,\n",
    "        ignoreLeadingWhiteSpace = True\n",
    "    )\n",
    "csv_sdf.isStreaming"
   ]
  },
  {
   "cell_type": "code",
   "execution_count": 8,
   "metadata": {},
   "outputs": [
    {
     "name": "stdout",
     "output_type": "stream",
     "text": [
      "root\n",
      " |-- created_at: date (nullable = true)\n",
      " |-- text: string (nullable = true)\n",
      " |-- source: string (nullable = true)\n",
      " |-- sentiment: string (nullable = true)\n",
      " |-- entity: string (nullable = true)\n",
      " |-- entity_type: string (nullable = true)\n",
      "\n"
     ]
    }
   ],
   "source": [
    "csv_sdf.printSchema()"
   ]
  },
  {
   "cell_type": "markdown",
   "metadata": {},
   "source": [
    "## Create an Run Spark Structured Queries\n",
    "1. Print to console for debugging\n",
    "2. Write to parquet database"
   ]
  },
  {
   "cell_type": "code",
   "execution_count": 9,
   "metadata": {
    "pixiedust": {
     "displayParams": {}
    }
   },
   "outputs": [],
   "source": [
    "console_streaming_query = csv_sdf.writeStream\\\n",
    "  .outputMode(\"append\")\\\n",
    "  .format(\"console\")\\\n",
    "  .trigger(processingTime='2 seconds')\\\n",
    "  .start()"
   ]
  },
  {
   "cell_type": "code",
   "execution_count": 10,
   "metadata": {},
   "outputs": [],
   "source": [
    "# uncomment to stop the structured query\n",
    "#console_streaming_query.stop()"
   ]
  },
  {
   "cell_type": "code",
   "execution_count": 11,
   "metadata": {},
   "outputs": [],
   "source": [
    "tweet_streaming_query = csv_sdf \\\n",
    "  .writeStream \\\n",
    "  .format(\"parquet\") \\\n",
    "  .option(\"path\", os.path.join(root_dir, \"output_parquet\")) \\\n",
    "  .trigger(processingTime=\"2 seconds\") \\\n",
    "  .option(\"checkpointLocation\", os.path.join(root_dir, \"output_chkpt\")) \\\n",
    "  .start()"
   ]
  },
  {
   "cell_type": "code",
   "execution_count": 12,
   "metadata": {},
   "outputs": [],
   "source": [
    "# uncomment to stop the structured query\n",
    "#tweet_streaming_query.stop()"
   ]
  },
  {
   "cell_type": "markdown",
   "metadata": {},
   "source": [
    "## Monitoring the Streaming Queries"
   ]
  },
  {
   "cell_type": "code",
   "execution_count": 13,
   "metadata": {},
   "outputs": [
    {
     "name": "stdout",
     "output_type": "stream",
     "text": [
      "[<pyspark.sql.streaming.StreamingQuery object at 0x135e4d978>, <pyspark.sql.streaming.StreamingQuery object at 0x135e4d4a8>]\n"
     ]
    }
   ],
   "source": [
    "print(spark.streams.active)"
   ]
  },
  {
   "cell_type": "code",
   "execution_count": 14,
   "metadata": {},
   "outputs": [
    {
     "name": "stdout",
     "output_type": "stream",
     "text": [
      "-----------\n",
      "id: fe2cf4e9-add1-49e9-ac70-44e1db9dc62a\n",
      "{\n",
      "  \"batchId\": 2,\n",
      "  \"durationMs\": {\n",
      "    \"getOffset\": 3,\n",
      "    \"triggerExecution\": 4\n",
      "  },\n",
      "  \"id\": \"fe2cf4e9-add1-49e9-ac70-44e1db9dc62a\",\n",
      "  \"inputRowsPerSecond\": 0.0,\n",
      "  \"name\": null,\n",
      "  \"numInputRows\": 0,\n",
      "  \"processedRowsPerSecond\": 0.0,\n",
      "  \"runId\": \"221ef433-1b6a-4ad3-951f-da66eba6e1be\",\n",
      "  \"sink\": {\n",
      "    \"description\": \"FileSink[/Users/dtaieb/cdsdev/notebookdev/Pixiedust/book/Chapter7/output/output_parquet]\"\n",
      "  },\n",
      "  \"sources\": [\n",
      "    {\n",
      "      \"description\": \"FileStreamSource[file:/Users/dtaieb/cdsdev/notebookdev/Pixiedust/book/Chapter7/output/raw]\",\n",
      "      \"endOffset\": {\n",
      "        \"logOffset\": 1\n",
      "      },\n",
      "      \"inputRowsPerSecond\": 0.0,\n",
      "      \"numInputRows\": 0,\n",
      "      \"processedRowsPerSecond\": 0.0,\n",
      "      \"startOffset\": {\n",
      "        \"logOffset\": 1\n",
      "      }\n",
      "    }\n",
      "  ],\n",
      "  \"stateOperators\": [],\n",
      "  \"timestamp\": \"2018-04-14T17:41:08.000Z\"\n",
      "}\n",
      "-----------\n",
      "id: caa738e6-934e-4bd1-b707-0df728a5f3fe\n",
      "{\n",
      "  \"batchId\": 2,\n",
      "  \"durationMs\": {\n",
      "    \"getOffset\": 2,\n",
      "    \"triggerExecution\": 3\n",
      "  },\n",
      "  \"id\": \"caa738e6-934e-4bd1-b707-0df728a5f3fe\",\n",
      "  \"inputRowsPerSecond\": 0.0,\n",
      "  \"name\": null,\n",
      "  \"numInputRows\": 0,\n",
      "  \"processedRowsPerSecond\": 0.0,\n",
      "  \"runId\": \"50015fb2-8844-4505-8820-f6662270abaa\",\n",
      "  \"sink\": {\n",
      "    \"description\": \"org.apache.spark.sql.execution.streaming.ConsoleSinkProvider@379ea4cf\"\n",
      "  },\n",
      "  \"sources\": [\n",
      "    {\n",
      "      \"description\": \"FileStreamSource[file:/Users/dtaieb/cdsdev/notebookdev/Pixiedust/book/Chapter7/output/raw]\",\n",
      "      \"endOffset\": {\n",
      "        \"logOffset\": 1\n",
      "      },\n",
      "      \"inputRowsPerSecond\": 0.0,\n",
      "      \"numInputRows\": 0,\n",
      "      \"processedRowsPerSecond\": 0.0,\n",
      "      \"startOffset\": {\n",
      "        \"logOffset\": 1\n",
      "      }\n",
      "    }\n",
      "  ],\n",
      "  \"stateOperators\": [],\n",
      "  \"timestamp\": \"2018-04-14T17:41:10.000Z\"\n",
      "}\n"
     ]
    },
    {
     "name": "stderr",
     "output_type": "stream",
     "text": [
      "/Users/dtaieb/anaconda/envs/dashboard/lib/python3.5/site-packages/ipykernel/__main__.py:65: DeprecationWarning: The 'warn' method is deprecated, use 'warning' instead\n"
     ]
    }
   ],
   "source": [
    "import json\n",
    "for query in spark.streams.active:\n",
    "    print(\"-----------\")\n",
    "    print(\"id: {}\".format(query.id))\n",
    "    print(json.dumps(query.lastProgress, indent=2, sort_keys=True))"
   ]
  },
  {
   "cell_type": "markdown",
   "metadata": {},
   "source": [
    "## Creating a batch DataFrame from the parquet files"
   ]
  },
  {
   "cell_type": "code",
   "execution_count": 17,
   "metadata": {
    "pixiedust": {
     "displayParams": {
      "handlerId": "tableView"
     }
    }
   },
   "outputs": [],
   "source": [
    "parquet_batch_df = spark.sql(\"select * from parquet.`{}`\".format(os.path.join(root_dir, \"output_parquet\")))"
   ]
  },
  {
   "cell_type": "markdown",
   "metadata": {},
   "source": [
    "## Display the data using PixieDust"
   ]
  },
  {
   "cell_type": "code",
   "execution_count": 19,
   "metadata": {
    "pixiedust": {
     "displayParams": {
      "chartsize": "82",
      "clusterby": "entity_type",
      "handlerId": "barChart",
      "keyFields": "sentiment",
      "legend": "true",
      "rendererId": "bokeh",
      "rowCount": "10",
      "sortby": "Values DESC",
      "stretch": "true"
     }
    }
   },
   "outputs": [
    {
     "data": {
      "text/html": [
       "<style type=\"text/css\">.pd_warning{display:none;}</style><div class=\"pd_warning\"><em>Hey, there's something awesome here! To see it, open this notebook outside GitHub, in a viewer like Jupyter</em></div>\n",
       "        <div class=\"pd_save is-viewer-good\" style=\"padding-right:10px;text-align: center;line-height:initial !important;font-size: xx-large;font-weight: 500;color: coral;\">\n",
       "            \n",
       "        </div>\n",
       "    <div id=\"chartFigure696abd21\" class=\"pd_save is-viewer-good\" style=\"overflow-x:auto\">\n",
       "            \n",
       "                    <script class=\"pd_save\">\n",
       "                    function setChartScript() {\n",
       "                        if (!window.Bokeh) {\n",
       "                            setTimeout(setChartScript, 250)\n",
       "                        } else {\n",
       "                            var d = document.getElementById(\"pd-bkchartdiv-696abd21\")\n",
       "                            if (d){\n",
       "                                var el = document.createElement('div')\n",
       "                                el.innerHTML = `\n",
       "<script type=\"text/javascript\">\n",
       "  (function() {\n",
       "    var fn = function() {\n",
       "      Bokeh.safely(function() {\n",
       "        (function(root) {\n",
       "          function embed_document(root) {\n",
       "            \n",
       "          var docs_json = '{\"45433bf8-5661-4e1b-adc8-410b93424ff3\":{\"roots\":{\"references\":[{\"attributes\":{\"label\":{\"field\":\"l\"},\"renderers\":[{\"id\":\"fc285902-d1d7-41a3-a9fa-acac96d96d65\",\"type\":\"GlyphRenderer\"}]},\"id\":\"c1f4a1a9-b368-423b-8310-db7c128c6740\",\"type\":\"LegendItem\"},{\"attributes\":{\"axis_label\":\"sentiment\",\"formatter\":{\"id\":\"7dd8f9a1-ebd2-44e9-91e2-3c3acc57dbbb\",\"type\":\"CategoricalTickFormatter\"},\"major_label_orientation\":1,\"major_label_text_color\":{\"value\":null},\"major_label_text_font_size\":{\"value\":\"0px\"},\"major_tick_line_color\":{\"value\":null},\"minor_tick_line_color\":{\"value\":null},\"plot\":{\"id\":\"6e1a4e03-7860-4cd7-8c91-2d19ae6889fe\",\"subtype\":\"Figure\",\"type\":\"Plot\"},\"ticker\":{\"id\":\"504b2738-0a47-4eb5-8a54-f748323713bd\",\"type\":\"CategoricalTicker\"}},\"id\":\"a5a81d54-13a7-43cf-a2e9-3083bd27bd86\",\"type\":\"CategoricalAxis\"},{\"attributes\":{},\"id\":\"85f8ec4f-911a-47e5-a083-2cea1d7e5375\",\"type\":\"BasicTickFormatter\"},{\"attributes\":{\"end\":2,\"factors\":[\"Company\",\"Hashtag\",\"Location\",\"Organization\",\"Sport\",\"TwitterHandle\"],\"palette\":[\"#1f77b4\",\"#ff7f0e\",\"#2ca02c\",\"#d62728\",\"#9467bd\",\"#8c564b\"],\"start\":1},\"id\":\"d728f7ca-e672-41b9-a400-fc698e27da2d\",\"type\":\"CategoricalColorMapper\"},{\"attributes\":{},\"id\":\"8e53eb3b-62e4-4a54-86b4-7b993d978113\",\"type\":\"LinearScale\"},{\"attributes\":{\"overlay\":{\"id\":\"08416b80-d6a9-4082-a780-a5eed7969244\",\"type\":\"BoxAnnotation\"}},\"id\":\"40856ae9-585c-4030-9814-76401b323fa3\",\"type\":\"BoxZoomTool\"},{\"attributes\":{\"toolbar\":{\"id\":\"5f23bbe0-452c-46af-8932-f3856d618dea\",\"type\":\"ProxyToolbar\"},\"toolbar_location\":\"above\"},\"id\":\"4d3e9bab-93f1-44ff-a00b-dd6c6b28d54f\",\"type\":\"ToolbarBox\"},{\"attributes\":{},\"id\":\"347e845e-1888-4f85-a363-43b8a2c5b5c8\",\"type\":\"BasicTicker\"},{\"attributes\":{\"below\":[{\"id\":\"a5a81d54-13a7-43cf-a2e9-3083bd27bd86\",\"type\":\"CategoricalAxis\"}],\"left\":[{\"id\":\"2cb87965-35d6-419a-8f0d-873f376eeab6\",\"type\":\"LinearAxis\"}],\"outline_line_color\":{\"value\":null},\"plot_height\":491,\"plot_width\":657,\"renderers\":[{\"id\":\"a5a81d54-13a7-43cf-a2e9-3083bd27bd86\",\"type\":\"CategoricalAxis\"},{\"id\":\"081afc34-8222-40e6-a900-3949113104a4\",\"type\":\"Grid\"},{\"id\":\"2cb87965-35d6-419a-8f0d-873f376eeab6\",\"type\":\"LinearAxis\"},{\"id\":\"216b9cf5-cce6-45c6-8ecb-dbe87fcf65d6\",\"type\":\"Grid\"},{\"id\":\"08416b80-d6a9-4082-a780-a5eed7969244\",\"type\":\"BoxAnnotation\"},{\"id\":\"7c8c9873-f603-46d6-889a-2894dcfbc5db\",\"type\":\"Legend\"},{\"id\":\"fc285902-d1d7-41a3-a9fa-acac96d96d65\",\"type\":\"GlyphRenderer\"}],\"title\":null,\"toolbar\":{\"id\":\"379e45df-5bc3-433a-aee1-e62b8c99e02c\",\"type\":\"Toolbar\"},\"toolbar_location\":null,\"x_range\":{\"id\":\"e7053d69-191f-4019-a6ea-e2e739acfcc0\",\"type\":\"FactorRange\"},\"x_scale\":{\"id\":\"e018164c-1615-45ac-a6f9-d74bee334dba\",\"type\":\"CategoricalScale\"},\"y_range\":{\"id\":\"1979c4ef-f17d-49bf-a9f8-f52841adadaa\",\"type\":\"DataRange1d\"},\"y_scale\":{\"id\":\"8e53eb3b-62e4-4a54-86b4-7b993d978113\",\"type\":\"LinearScale\"}},\"id\":\"6e1a4e03-7860-4cd7-8c91-2d19ae6889fe\",\"subtype\":\"Figure\",\"type\":\"Plot\"},{\"attributes\":{\"callback\":null,\"column_names\":[\"counts\",\"x\",\"l\"],\"data\":{\"counts\":[1.0,0.0,0.0,0.0,2.0,0.0,0.0,0.0,6.0,0.0,4.0,3.0,2.0,1.0,0.0,2.0,3.0,2.0],\"l\":[\"Company\",\"Hashtag\",\"Location\",\"Organization\",\"Sport\",\"TwitterHandle\",\"Company\",\"Hashtag\",\"Location\",\"Organization\",\"Sport\",\"TwitterHandle\",\"Company\",\"Hashtag\",\"Location\",\"Organization\",\"Sport\",\"TwitterHandle\"],\"x\":[[\"negative\",\"Company\"],[\"negative\",\"Hashtag\"],[\"negative\",\"Location\"],[\"negative\",\"Organization\"],[\"negative\",\"Sport\"],[\"negative\",\"TwitterHandle\"],[\"neutral\",\"Company\"],[\"neutral\",\"Hashtag\"],[\"neutral\",\"Location\"],[\"neutral\",\"Organization\"],[\"neutral\",\"Sport\"],[\"neutral\",\"TwitterHandle\"],[\"positive\",\"Company\"],[\"positive\",\"Hashtag\"],[\"positive\",\"Location\"],[\"positive\",\"Organization\"],[\"positive\",\"Sport\"],[\"positive\",\"TwitterHandle\"]]}},\"id\":\"e46b0d0a-cb0c-43f4-8359-d96b38acca9e\",\"type\":\"ColumnDataSource\"},{\"attributes\":{\"children\":[{\"id\":\"6e1a4e03-7860-4cd7-8c91-2d19ae6889fe\",\"subtype\":\"Figure\",\"type\":\"Plot\"}]},\"id\":\"95f3ff9b-9b47-436e-8aac-f323b97fc0e4\",\"type\":\"Row\"},{\"attributes\":{},\"id\":\"91d0edbd-3597-4cf1-a886-fd27b284b2f6\",\"type\":\"HelpTool\"},{\"attributes\":{\"data_source\":{\"id\":\"e46b0d0a-cb0c-43f4-8359-d96b38acca9e\",\"type\":\"ColumnDataSource\"},\"glyph\":{\"id\":\"909857a2-4aa4-4b52-924c-d61f3a722937\",\"type\":\"VBar\"},\"hover_glyph\":null,\"muted_glyph\":null,\"nonselection_glyph\":{\"id\":\"47113fd8-0804-40c4-be17-984d049aa5ec\",\"type\":\"VBar\"},\"selection_glyph\":null,\"view\":{\"id\":\"fa1a3b0c-7547-42b6-a741-4baecf0f6afb\",\"type\":\"CDSView\"}},\"id\":\"fc285902-d1d7-41a3-a9fa-acac96d96d65\",\"type\":\"GlyphRenderer\"},{\"attributes\":{\"tools\":[{\"id\":\"07c54635-3e4e-4695-b568-153b1736df9e\",\"type\":\"PanTool\"},{\"id\":\"22b225bf-8c85-43ca-b574-7281b4106606\",\"type\":\"WheelZoomTool\"},{\"id\":\"40856ae9-585c-4030-9814-76401b323fa3\",\"type\":\"BoxZoomTool\"},{\"id\":\"8e16f1a2-bc79-4106-a0fd-3a91efa2db2e\",\"type\":\"SaveTool\"},{\"id\":\"3880620d-bdc6-4611-a15f-726223467515\",\"type\":\"ResetTool\"},{\"id\":\"91d0edbd-3597-4cf1-a886-fd27b284b2f6\",\"type\":\"HelpTool\"}]},\"id\":\"5f23bbe0-452c-46af-8932-f3856d618dea\",\"type\":\"ProxyToolbar\"},{\"attributes\":{},\"id\":\"22b225bf-8c85-43ca-b574-7281b4106606\",\"type\":\"WheelZoomTool\"},{\"attributes\":{},\"id\":\"e018164c-1615-45ac-a6f9-d74bee334dba\",\"type\":\"CategoricalScale\"},{\"attributes\":{\"callback\":null,\"start\":0},\"id\":\"1979c4ef-f17d-49bf-a9f8-f52841adadaa\",\"type\":\"DataRange1d\"},{\"attributes\":{},\"id\":\"3880620d-bdc6-4611-a15f-726223467515\",\"type\":\"ResetTool\"},{\"attributes\":{\"bottom_units\":\"screen\",\"fill_alpha\":{\"value\":0.5},\"fill_color\":{\"value\":\"lightgrey\"},\"left_units\":\"screen\",\"level\":\"overlay\",\"line_alpha\":{\"value\":1.0},\"line_color\":{\"value\":\"black\"},\"line_dash\":[4,4],\"line_width\":{\"value\":2},\"plot\":null,\"render_mode\":\"css\",\"right_units\":\"screen\",\"top_units\":\"screen\"},\"id\":\"08416b80-d6a9-4082-a780-a5eed7969244\",\"type\":\"BoxAnnotation\"},{\"attributes\":{\"fill_color\":{\"field\":\"x\",\"transform\":{\"id\":\"d728f7ca-e672-41b9-a400-fc698e27da2d\",\"type\":\"CategoricalColorMapper\"}},\"line_color\":{\"field\":\"x\",\"transform\":{\"id\":\"d728f7ca-e672-41b9-a400-fc698e27da2d\",\"type\":\"CategoricalColorMapper\"}},\"top\":{\"field\":\"counts\"},\"width\":{\"value\":0.925},\"x\":{\"field\":\"x\"}},\"id\":\"909857a2-4aa4-4b52-924c-d61f3a722937\",\"type\":\"VBar\"},{\"attributes\":{\"children\":[{\"id\":\"95f3ff9b-9b47-436e-8aac-f323b97fc0e4\",\"type\":\"Row\"}]},\"id\":\"5ffaf9b2-08f5-4314-997e-b1aab202eba6\",\"type\":\"Column\"},{\"attributes\":{\"items\":[{\"id\":\"c1f4a1a9-b368-423b-8310-db7c128c6740\",\"type\":\"LegendItem\"}],\"location\":\"top_left\",\"plot\":{\"id\":\"6e1a4e03-7860-4cd7-8c91-2d19ae6889fe\",\"subtype\":\"Figure\",\"type\":\"Plot\"}},\"id\":\"7c8c9873-f603-46d6-889a-2894dcfbc5db\",\"type\":\"Legend\"},{\"attributes\":{},\"id\":\"8e16f1a2-bc79-4106-a0fd-3a91efa2db2e\",\"type\":\"SaveTool\"},{\"attributes\":{\"source\":{\"id\":\"e46b0d0a-cb0c-43f4-8359-d96b38acca9e\",\"type\":\"ColumnDataSource\"}},\"id\":\"fa1a3b0c-7547-42b6-a741-4baecf0f6afb\",\"type\":\"CDSView\"},{\"attributes\":{\"active_drag\":\"auto\",\"active_inspect\":\"auto\",\"active_scroll\":\"auto\",\"active_tap\":\"auto\",\"tools\":[{\"id\":\"07c54635-3e4e-4695-b568-153b1736df9e\",\"type\":\"PanTool\"},{\"id\":\"22b225bf-8c85-43ca-b574-7281b4106606\",\"type\":\"WheelZoomTool\"},{\"id\":\"40856ae9-585c-4030-9814-76401b323fa3\",\"type\":\"BoxZoomTool\"},{\"id\":\"8e16f1a2-bc79-4106-a0fd-3a91efa2db2e\",\"type\":\"SaveTool\"},{\"id\":\"3880620d-bdc6-4611-a15f-726223467515\",\"type\":\"ResetTool\"},{\"id\":\"91d0edbd-3597-4cf1-a886-fd27b284b2f6\",\"type\":\"HelpTool\"}]},\"id\":\"379e45df-5bc3-433a-aee1-e62b8c99e02c\",\"type\":\"Toolbar\"},{\"attributes\":{},\"id\":\"7dd8f9a1-ebd2-44e9-91e2-3c3acc57dbbb\",\"type\":\"CategoricalTickFormatter\"},{\"attributes\":{},\"id\":\"504b2738-0a47-4eb5-8a54-f748323713bd\",\"type\":\"CategoricalTicker\"},{\"attributes\":{\"callback\":null,\"factors\":[[\"negative\",\"Company\"],[\"negative\",\"Hashtag\"],[\"negative\",\"Location\"],[\"negative\",\"Organization\"],[\"negative\",\"Sport\"],[\"negative\",\"TwitterHandle\"],[\"neutral\",\"Company\"],[\"neutral\",\"Hashtag\"],[\"neutral\",\"Location\"],[\"neutral\",\"Organization\"],[\"neutral\",\"Sport\"],[\"neutral\",\"TwitterHandle\"],[\"positive\",\"Company\"],[\"positive\",\"Hashtag\"],[\"positive\",\"Location\"],[\"positive\",\"Organization\"],[\"positive\",\"Sport\"],[\"positive\",\"TwitterHandle\"]],\"range_padding\":0.1},\"id\":\"e7053d69-191f-4019-a6ea-e2e739acfcc0\",\"type\":\"FactorRange\"},{\"attributes\":{\"axis_label\":\"pd_count\",\"formatter\":{\"id\":\"85f8ec4f-911a-47e5-a083-2cea1d7e5375\",\"type\":\"BasicTickFormatter\"},\"minor_tick_line_color\":{\"value\":null},\"plot\":{\"id\":\"6e1a4e03-7860-4cd7-8c91-2d19ae6889fe\",\"subtype\":\"Figure\",\"type\":\"Plot\"},\"ticker\":{\"id\":\"347e845e-1888-4f85-a363-43b8a2c5b5c8\",\"type\":\"BasicTicker\"}},\"id\":\"2cb87965-35d6-419a-8f0d-873f376eeab6\",\"type\":\"LinearAxis\"},{\"attributes\":{\"children\":[{\"id\":\"4d3e9bab-93f1-44ff-a00b-dd6c6b28d54f\",\"type\":\"ToolbarBox\"},{\"id\":\"5ffaf9b2-08f5-4314-997e-b1aab202eba6\",\"type\":\"Column\"}]},\"id\":\"404d6a9f-f996-43cd-8a69-21d13340b951\",\"type\":\"Column\"},{\"attributes\":{\"fill_alpha\":{\"value\":0.1},\"fill_color\":{\"value\":\"#1f77b4\"},\"line_alpha\":{\"value\":0.1},\"line_color\":{\"value\":\"#1f77b4\"},\"top\":{\"field\":\"counts\"},\"width\":{\"value\":0.925},\"x\":{\"field\":\"x\"}},\"id\":\"47113fd8-0804-40c4-be17-984d049aa5ec\",\"type\":\"VBar\"},{\"attributes\":{\"grid_line_color\":{\"value\":null},\"plot\":{\"id\":\"6e1a4e03-7860-4cd7-8c91-2d19ae6889fe\",\"subtype\":\"Figure\",\"type\":\"Plot\"},\"ticker\":{\"id\":\"504b2738-0a47-4eb5-8a54-f748323713bd\",\"type\":\"CategoricalTicker\"}},\"id\":\"081afc34-8222-40e6-a900-3949113104a4\",\"type\":\"Grid\"},{\"attributes\":{\"dimension\":1,\"plot\":{\"id\":\"6e1a4e03-7860-4cd7-8c91-2d19ae6889fe\",\"subtype\":\"Figure\",\"type\":\"Plot\"},\"ticker\":{\"id\":\"347e845e-1888-4f85-a363-43b8a2c5b5c8\",\"type\":\"BasicTicker\"}},\"id\":\"216b9cf5-cce6-45c6-8ecb-dbe87fcf65d6\",\"type\":\"Grid\"},{\"attributes\":{},\"id\":\"07c54635-3e4e-4695-b568-153b1736df9e\",\"type\":\"PanTool\"}],\"root_ids\":[\"404d6a9f-f996-43cd-8a69-21d13340b951\"]},\"title\":\"Bokeh Application\",\"version\":\"0.12.13\"}}';\n",
       "          var render_items = [{\"docid\":\"45433bf8-5661-4e1b-adc8-410b93424ff3\",\"elementid\":\"78b74362-062c-4e75-839d-df738187ef0c\",\"modelid\":\"404d6a9f-f996-43cd-8a69-21d13340b951\"}];\n",
       "          root.Bokeh.embed.embed_items(docs_json, render_items);\n",
       "        \n",
       "          }\n",
       "          if (root.Bokeh !== undefined) {\n",
       "            embed_document(root);\n",
       "          } else {\n",
       "            var attempts = 0;\n",
       "            var timer = setInterval(function(root) {\n",
       "              if (root.Bokeh !== undefined) {\n",
       "                embed_document(root);\n",
       "                clearInterval(timer);\n",
       "              }\n",
       "              attempts++;\n",
       "              if (attempts > 100) {\n",
       "                console.log(\"Bokeh: ERROR: Unable to run BokehJS code because BokehJS library is missing\")\n",
       "                clearInterval(timer);\n",
       "              }\n",
       "            }, 10, root)\n",
       "          }\n",
       "        })(window);\n",
       "      });\n",
       "    };\n",
       "    if (document.readyState != \"loading\") fn();\n",
       "    else document.addEventListener(\"DOMContentLoaded\", fn);\n",
       "  })();\n",
       "<\\/script>`\n",
       "                                var chartscript = el.childNodes[1]\n",
       "                                var s = document.createElement(\"script\")\n",
       "                                s.innerHTML = chartscript.innerHTML\n",
       "                                d.parentNode.insertBefore(s, d)\n",
       "                            }\n",
       "                        }\n",
       "                    }\n",
       "                    if (!window.Bokeh && !window.autoload){\n",
       "                        window.autoload=true;\n",
       "                        \n",
       "(function(root) {\n",
       "  function now() {\n",
       "    return new Date();\n",
       "  }\n",
       "\n",
       "  var force = 1;\n",
       "\n",
       "  if (typeof (root._bokeh_onload_callbacks) === \"undefined\" || force === true) {\n",
       "    root._bokeh_onload_callbacks = [];\n",
       "    root._bokeh_is_loading = undefined;\n",
       "  }\n",
       "\n",
       "  \n",
       "\n",
       "  \n",
       "  if (typeof (root._bokeh_timeout) === \"undefined\" || force === true) {\n",
       "    root._bokeh_timeout = Date.now() + 5000;\n",
       "    root._bokeh_failed_load = false;\n",
       "  }\n",
       "\n",
       "  var NB_LOAD_WARNING = {'data': {'text/html':\n",
       "     \"<div style='background-color: #fdd'>\\n\"+\n",
       "     \"<p>\\n\"+\n",
       "     \"BokehJS does not appear to have successfully loaded. If loading BokehJS from CDN, this \\n\"+\n",
       "     \"may be due to a slow or bad network connection. Possible fixes:\\n\"+\n",
       "     \"</p>\\n\"+\n",
       "     \"<ul>\\n\"+\n",
       "     \"<li>re-rerun `output_notebook()` to attempt to load from CDN again, or</li>\\n\"+\n",
       "     \"<li>use INLINE resources instead, as so:</li>\\n\"+\n",
       "     \"</ul>\\n\"+\n",
       "     \"<code>\\n\"+\n",
       "     \"from bokeh.resources import INLINE\\n\"+\n",
       "     \"output_notebook(resources=INLINE)\\n\"+\n",
       "     \"</code>\\n\"+\n",
       "     \"</div>\"}};\n",
       "\n",
       "  function display_loaded() {\n",
       "    var el = document.getElementById(\"\");\n",
       "    if (el != null) {\n",
       "      el.textContent = \"BokehJS is loading...\";\n",
       "    }\n",
       "    if (root.Bokeh !== undefined) {\n",
       "      if (el != null) {\n",
       "        el.textContent = \"BokehJS \" + root.Bokeh.version + \" successfully loaded.\";\n",
       "      }\n",
       "    } else if (Date.now() < root._bokeh_timeout) {\n",
       "      setTimeout(display_loaded, 100)\n",
       "    }\n",
       "  }\n",
       "\n",
       "\n",
       "  function run_callbacks() {\n",
       "    try {\n",
       "      root._bokeh_onload_callbacks.forEach(function(callback) { callback() });\n",
       "    }\n",
       "    finally {\n",
       "      delete root._bokeh_onload_callbacks\n",
       "    }\n",
       "    console.info(\"Bokeh: all callbacks have finished\");\n",
       "  }\n",
       "\n",
       "  function load_libs(js_urls, callback) {\n",
       "    root._bokeh_onload_callbacks.push(callback);\n",
       "    if (root._bokeh_is_loading > 0) {\n",
       "      console.log(\"Bokeh: BokehJS is being loaded, scheduling callback at\", now());\n",
       "      return null;\n",
       "    }\n",
       "    if (js_urls == null || js_urls.length === 0) {\n",
       "      run_callbacks();\n",
       "      return null;\n",
       "    }\n",
       "    console.log(\"Bokeh: BokehJS not loaded, scheduling load and callback at\", now());\n",
       "    root._bokeh_is_loading = js_urls.length;\n",
       "    for (var i = 0; i < js_urls.length; i++) {\n",
       "      var url = js_urls[i];\n",
       "      var s = document.createElement('script');\n",
       "      s.src = url;\n",
       "      s.async = false;\n",
       "      s.onreadystatechange = s.onload = function() {\n",
       "        root._bokeh_is_loading--;\n",
       "        if (root._bokeh_is_loading === 0) {\n",
       "          console.log(\"Bokeh: all BokehJS libraries loaded\");\n",
       "          run_callbacks()\n",
       "        }\n",
       "      };\n",
       "      s.onerror = function() {\n",
       "        console.warn(\"failed to load library \" + url);\n",
       "      };\n",
       "      console.log(\"Bokeh: injecting script tag for BokehJS library: \", url);\n",
       "      document.getElementsByTagName(\"head\")[0].appendChild(s);\n",
       "    }\n",
       "  };\n",
       "\n",
       "  var js_urls = [\"https://cdn.pydata.org/bokeh/release/bokeh-0.12.13.min.js\", \"https://cdn.pydata.org/bokeh/release/bokeh-widgets-0.12.13.min.js\", \"https://cdn.pydata.org/bokeh/release/bokeh-tables-0.12.13.min.js\", \"https://cdn.pydata.org/bokeh/release/bokeh-gl-0.12.13.min.js\"];\n",
       "\n",
       "  var inline_js = [\n",
       "    function(Bokeh) {\n",
       "      Bokeh.set_log_level(\"info\");\n",
       "    },\n",
       "    function(Bokeh) {\n",
       "      console.log(\"Bokeh: injecting CSS: https://cdn.pydata.org/bokeh/release/bokeh-0.12.13.min.css\");\n",
       "      Bokeh.embed.inject_css(\"https://cdn.pydata.org/bokeh/release/bokeh-0.12.13.min.css\");\n",
       "      console.log(\"Bokeh: injecting CSS: https://cdn.pydata.org/bokeh/release/bokeh-widgets-0.12.13.min.css\");\n",
       "      Bokeh.embed.inject_css(\"https://cdn.pydata.org/bokeh/release/bokeh-widgets-0.12.13.min.css\");\n",
       "      console.log(\"Bokeh: injecting CSS: https://cdn.pydata.org/bokeh/release/bokeh-tables-0.12.13.min.css\");\n",
       "      Bokeh.embed.inject_css(\"https://cdn.pydata.org/bokeh/release/bokeh-tables-0.12.13.min.css\");\n",
       "    }\n",
       "  ];\n",
       "\n",
       "  function run_inline_js() {\n",
       "    \n",
       "    if ((root.Bokeh !== undefined) || (force === true)) {\n",
       "      for (var i = 0; i < inline_js.length; i++) {\n",
       "        inline_js[i].call(root, root.Bokeh);\n",
       "      }} else if (Date.now() < root._bokeh_timeout) {\n",
       "      setTimeout(run_inline_js, 100);\n",
       "    } else if (!root._bokeh_failed_load) {\n",
       "      console.log(\"Bokeh: BokehJS failed to load within specified timeout.\");\n",
       "      root._bokeh_failed_load = true;\n",
       "    } else if (force !== true) {\n",
       "      var cell = $(document.getElementById(\"\")).parents('.cell').data().cell;\n",
       "      cell.output_area.append_execute_result(NB_LOAD_WARNING)\n",
       "    }\n",
       "\n",
       "  }\n",
       "\n",
       "  if (root._bokeh_is_loading === 0) {\n",
       "    console.log(\"Bokeh: BokehJS loaded, going straight to plotting\");\n",
       "    run_inline_js();\n",
       "  } else {\n",
       "    load_libs(js_urls, function() {\n",
       "      console.log(\"Bokeh: BokehJS plotting callback run at\", now());\n",
       "      run_inline_js();\n",
       "    });\n",
       "  }\n",
       "}(window));\n",
       "                    }\n",
       "                    setChartScript()\n",
       "                    </script>\n",
       "                    <script>\n",
       "  (function() {\n",
       "    var fn = function() {\n",
       "      Bokeh.safely(function() {\n",
       "        (function(root) {\n",
       "          function embed_document(root) {\n",
       "            \n",
       "          var docs_json = '{\"45433bf8-5661-4e1b-adc8-410b93424ff3\":{\"roots\":{\"references\":[{\"attributes\":{\"label\":{\"field\":\"l\"},\"renderers\":[{\"id\":\"fc285902-d1d7-41a3-a9fa-acac96d96d65\",\"type\":\"GlyphRenderer\"}]},\"id\":\"c1f4a1a9-b368-423b-8310-db7c128c6740\",\"type\":\"LegendItem\"},{\"attributes\":{\"axis_label\":\"sentiment\",\"formatter\":{\"id\":\"7dd8f9a1-ebd2-44e9-91e2-3c3acc57dbbb\",\"type\":\"CategoricalTickFormatter\"},\"major_label_orientation\":1,\"major_label_text_color\":{\"value\":null},\"major_label_text_font_size\":{\"value\":\"0px\"},\"major_tick_line_color\":{\"value\":null},\"minor_tick_line_color\":{\"value\":null},\"plot\":{\"id\":\"6e1a4e03-7860-4cd7-8c91-2d19ae6889fe\",\"subtype\":\"Figure\",\"type\":\"Plot\"},\"ticker\":{\"id\":\"504b2738-0a47-4eb5-8a54-f748323713bd\",\"type\":\"CategoricalTicker\"}},\"id\":\"a5a81d54-13a7-43cf-a2e9-3083bd27bd86\",\"type\":\"CategoricalAxis\"},{\"attributes\":{},\"id\":\"85f8ec4f-911a-47e5-a083-2cea1d7e5375\",\"type\":\"BasicTickFormatter\"},{\"attributes\":{\"end\":2,\"factors\":[\"Company\",\"Hashtag\",\"Location\",\"Organization\",\"Sport\",\"TwitterHandle\"],\"palette\":[\"#1f77b4\",\"#ff7f0e\",\"#2ca02c\",\"#d62728\",\"#9467bd\",\"#8c564b\"],\"start\":1},\"id\":\"d728f7ca-e672-41b9-a400-fc698e27da2d\",\"type\":\"CategoricalColorMapper\"},{\"attributes\":{},\"id\":\"8e53eb3b-62e4-4a54-86b4-7b993d978113\",\"type\":\"LinearScale\"},{\"attributes\":{\"overlay\":{\"id\":\"08416b80-d6a9-4082-a780-a5eed7969244\",\"type\":\"BoxAnnotation\"}},\"id\":\"40856ae9-585c-4030-9814-76401b323fa3\",\"type\":\"BoxZoomTool\"},{\"attributes\":{\"toolbar\":{\"id\":\"5f23bbe0-452c-46af-8932-f3856d618dea\",\"type\":\"ProxyToolbar\"},\"toolbar_location\":\"above\"},\"id\":\"4d3e9bab-93f1-44ff-a00b-dd6c6b28d54f\",\"type\":\"ToolbarBox\"},{\"attributes\":{},\"id\":\"347e845e-1888-4f85-a363-43b8a2c5b5c8\",\"type\":\"BasicTicker\"},{\"attributes\":{\"below\":[{\"id\":\"a5a81d54-13a7-43cf-a2e9-3083bd27bd86\",\"type\":\"CategoricalAxis\"}],\"left\":[{\"id\":\"2cb87965-35d6-419a-8f0d-873f376eeab6\",\"type\":\"LinearAxis\"}],\"outline_line_color\":{\"value\":null},\"plot_height\":491,\"plot_width\":657,\"renderers\":[{\"id\":\"a5a81d54-13a7-43cf-a2e9-3083bd27bd86\",\"type\":\"CategoricalAxis\"},{\"id\":\"081afc34-8222-40e6-a900-3949113104a4\",\"type\":\"Grid\"},{\"id\":\"2cb87965-35d6-419a-8f0d-873f376eeab6\",\"type\":\"LinearAxis\"},{\"id\":\"216b9cf5-cce6-45c6-8ecb-dbe87fcf65d6\",\"type\":\"Grid\"},{\"id\":\"08416b80-d6a9-4082-a780-a5eed7969244\",\"type\":\"BoxAnnotation\"},{\"id\":\"7c8c9873-f603-46d6-889a-2894dcfbc5db\",\"type\":\"Legend\"},{\"id\":\"fc285902-d1d7-41a3-a9fa-acac96d96d65\",\"type\":\"GlyphRenderer\"}],\"title\":null,\"toolbar\":{\"id\":\"379e45df-5bc3-433a-aee1-e62b8c99e02c\",\"type\":\"Toolbar\"},\"toolbar_location\":null,\"x_range\":{\"id\":\"e7053d69-191f-4019-a6ea-e2e739acfcc0\",\"type\":\"FactorRange\"},\"x_scale\":{\"id\":\"e018164c-1615-45ac-a6f9-d74bee334dba\",\"type\":\"CategoricalScale\"},\"y_range\":{\"id\":\"1979c4ef-f17d-49bf-a9f8-f52841adadaa\",\"type\":\"DataRange1d\"},\"y_scale\":{\"id\":\"8e53eb3b-62e4-4a54-86b4-7b993d978113\",\"type\":\"LinearScale\"}},\"id\":\"6e1a4e03-7860-4cd7-8c91-2d19ae6889fe\",\"subtype\":\"Figure\",\"type\":\"Plot\"},{\"attributes\":{\"callback\":null,\"column_names\":[\"counts\",\"x\",\"l\"],\"data\":{\"counts\":[1.0,0.0,0.0,0.0,2.0,0.0,0.0,0.0,6.0,0.0,4.0,3.0,2.0,1.0,0.0,2.0,3.0,2.0],\"l\":[\"Company\",\"Hashtag\",\"Location\",\"Organization\",\"Sport\",\"TwitterHandle\",\"Company\",\"Hashtag\",\"Location\",\"Organization\",\"Sport\",\"TwitterHandle\",\"Company\",\"Hashtag\",\"Location\",\"Organization\",\"Sport\",\"TwitterHandle\"],\"x\":[[\"negative\",\"Company\"],[\"negative\",\"Hashtag\"],[\"negative\",\"Location\"],[\"negative\",\"Organization\"],[\"negative\",\"Sport\"],[\"negative\",\"TwitterHandle\"],[\"neutral\",\"Company\"],[\"neutral\",\"Hashtag\"],[\"neutral\",\"Location\"],[\"neutral\",\"Organization\"],[\"neutral\",\"Sport\"],[\"neutral\",\"TwitterHandle\"],[\"positive\",\"Company\"],[\"positive\",\"Hashtag\"],[\"positive\",\"Location\"],[\"positive\",\"Organization\"],[\"positive\",\"Sport\"],[\"positive\",\"TwitterHandle\"]]}},\"id\":\"e46b0d0a-cb0c-43f4-8359-d96b38acca9e\",\"type\":\"ColumnDataSource\"},{\"attributes\":{\"children\":[{\"id\":\"6e1a4e03-7860-4cd7-8c91-2d19ae6889fe\",\"subtype\":\"Figure\",\"type\":\"Plot\"}]},\"id\":\"95f3ff9b-9b47-436e-8aac-f323b97fc0e4\",\"type\":\"Row\"},{\"attributes\":{},\"id\":\"91d0edbd-3597-4cf1-a886-fd27b284b2f6\",\"type\":\"HelpTool\"},{\"attributes\":{\"data_source\":{\"id\":\"e46b0d0a-cb0c-43f4-8359-d96b38acca9e\",\"type\":\"ColumnDataSource\"},\"glyph\":{\"id\":\"909857a2-4aa4-4b52-924c-d61f3a722937\",\"type\":\"VBar\"},\"hover_glyph\":null,\"muted_glyph\":null,\"nonselection_glyph\":{\"id\":\"47113fd8-0804-40c4-be17-984d049aa5ec\",\"type\":\"VBar\"},\"selection_glyph\":null,\"view\":{\"id\":\"fa1a3b0c-7547-42b6-a741-4baecf0f6afb\",\"type\":\"CDSView\"}},\"id\":\"fc285902-d1d7-41a3-a9fa-acac96d96d65\",\"type\":\"GlyphRenderer\"},{\"attributes\":{\"tools\":[{\"id\":\"07c54635-3e4e-4695-b568-153b1736df9e\",\"type\":\"PanTool\"},{\"id\":\"22b225bf-8c85-43ca-b574-7281b4106606\",\"type\":\"WheelZoomTool\"},{\"id\":\"40856ae9-585c-4030-9814-76401b323fa3\",\"type\":\"BoxZoomTool\"},{\"id\":\"8e16f1a2-bc79-4106-a0fd-3a91efa2db2e\",\"type\":\"SaveTool\"},{\"id\":\"3880620d-bdc6-4611-a15f-726223467515\",\"type\":\"ResetTool\"},{\"id\":\"91d0edbd-3597-4cf1-a886-fd27b284b2f6\",\"type\":\"HelpTool\"}]},\"id\":\"5f23bbe0-452c-46af-8932-f3856d618dea\",\"type\":\"ProxyToolbar\"},{\"attributes\":{},\"id\":\"22b225bf-8c85-43ca-b574-7281b4106606\",\"type\":\"WheelZoomTool\"},{\"attributes\":{},\"id\":\"e018164c-1615-45ac-a6f9-d74bee334dba\",\"type\":\"CategoricalScale\"},{\"attributes\":{\"callback\":null,\"start\":0},\"id\":\"1979c4ef-f17d-49bf-a9f8-f52841adadaa\",\"type\":\"DataRange1d\"},{\"attributes\":{},\"id\":\"3880620d-bdc6-4611-a15f-726223467515\",\"type\":\"ResetTool\"},{\"attributes\":{\"bottom_units\":\"screen\",\"fill_alpha\":{\"value\":0.5},\"fill_color\":{\"value\":\"lightgrey\"},\"left_units\":\"screen\",\"level\":\"overlay\",\"line_alpha\":{\"value\":1.0},\"line_color\":{\"value\":\"black\"},\"line_dash\":[4,4],\"line_width\":{\"value\":2},\"plot\":null,\"render_mode\":\"css\",\"right_units\":\"screen\",\"top_units\":\"screen\"},\"id\":\"08416b80-d6a9-4082-a780-a5eed7969244\",\"type\":\"BoxAnnotation\"},{\"attributes\":{\"fill_color\":{\"field\":\"x\",\"transform\":{\"id\":\"d728f7ca-e672-41b9-a400-fc698e27da2d\",\"type\":\"CategoricalColorMapper\"}},\"line_color\":{\"field\":\"x\",\"transform\":{\"id\":\"d728f7ca-e672-41b9-a400-fc698e27da2d\",\"type\":\"CategoricalColorMapper\"}},\"top\":{\"field\":\"counts\"},\"width\":{\"value\":0.925},\"x\":{\"field\":\"x\"}},\"id\":\"909857a2-4aa4-4b52-924c-d61f3a722937\",\"type\":\"VBar\"},{\"attributes\":{\"children\":[{\"id\":\"95f3ff9b-9b47-436e-8aac-f323b97fc0e4\",\"type\":\"Row\"}]},\"id\":\"5ffaf9b2-08f5-4314-997e-b1aab202eba6\",\"type\":\"Column\"},{\"attributes\":{\"items\":[{\"id\":\"c1f4a1a9-b368-423b-8310-db7c128c6740\",\"type\":\"LegendItem\"}],\"location\":\"top_left\",\"plot\":{\"id\":\"6e1a4e03-7860-4cd7-8c91-2d19ae6889fe\",\"subtype\":\"Figure\",\"type\":\"Plot\"}},\"id\":\"7c8c9873-f603-46d6-889a-2894dcfbc5db\",\"type\":\"Legend\"},{\"attributes\":{},\"id\":\"8e16f1a2-bc79-4106-a0fd-3a91efa2db2e\",\"type\":\"SaveTool\"},{\"attributes\":{\"source\":{\"id\":\"e46b0d0a-cb0c-43f4-8359-d96b38acca9e\",\"type\":\"ColumnDataSource\"}},\"id\":\"fa1a3b0c-7547-42b6-a741-4baecf0f6afb\",\"type\":\"CDSView\"},{\"attributes\":{\"active_drag\":\"auto\",\"active_inspect\":\"auto\",\"active_scroll\":\"auto\",\"active_tap\":\"auto\",\"tools\":[{\"id\":\"07c54635-3e4e-4695-b568-153b1736df9e\",\"type\":\"PanTool\"},{\"id\":\"22b225bf-8c85-43ca-b574-7281b4106606\",\"type\":\"WheelZoomTool\"},{\"id\":\"40856ae9-585c-4030-9814-76401b323fa3\",\"type\":\"BoxZoomTool\"},{\"id\":\"8e16f1a2-bc79-4106-a0fd-3a91efa2db2e\",\"type\":\"SaveTool\"},{\"id\":\"3880620d-bdc6-4611-a15f-726223467515\",\"type\":\"ResetTool\"},{\"id\":\"91d0edbd-3597-4cf1-a886-fd27b284b2f6\",\"type\":\"HelpTool\"}]},\"id\":\"379e45df-5bc3-433a-aee1-e62b8c99e02c\",\"type\":\"Toolbar\"},{\"attributes\":{},\"id\":\"7dd8f9a1-ebd2-44e9-91e2-3c3acc57dbbb\",\"type\":\"CategoricalTickFormatter\"},{\"attributes\":{},\"id\":\"504b2738-0a47-4eb5-8a54-f748323713bd\",\"type\":\"CategoricalTicker\"},{\"attributes\":{\"callback\":null,\"factors\":[[\"negative\",\"Company\"],[\"negative\",\"Hashtag\"],[\"negative\",\"Location\"],[\"negative\",\"Organization\"],[\"negative\",\"Sport\"],[\"negative\",\"TwitterHandle\"],[\"neutral\",\"Company\"],[\"neutral\",\"Hashtag\"],[\"neutral\",\"Location\"],[\"neutral\",\"Organization\"],[\"neutral\",\"Sport\"],[\"neutral\",\"TwitterHandle\"],[\"positive\",\"Company\"],[\"positive\",\"Hashtag\"],[\"positive\",\"Location\"],[\"positive\",\"Organization\"],[\"positive\",\"Sport\"],[\"positive\",\"TwitterHandle\"]],\"range_padding\":0.1},\"id\":\"e7053d69-191f-4019-a6ea-e2e739acfcc0\",\"type\":\"FactorRange\"},{\"attributes\":{\"axis_label\":\"pd_count\",\"formatter\":{\"id\":\"85f8ec4f-911a-47e5-a083-2cea1d7e5375\",\"type\":\"BasicTickFormatter\"},\"minor_tick_line_color\":{\"value\":null},\"plot\":{\"id\":\"6e1a4e03-7860-4cd7-8c91-2d19ae6889fe\",\"subtype\":\"Figure\",\"type\":\"Plot\"},\"ticker\":{\"id\":\"347e845e-1888-4f85-a363-43b8a2c5b5c8\",\"type\":\"BasicTicker\"}},\"id\":\"2cb87965-35d6-419a-8f0d-873f376eeab6\",\"type\":\"LinearAxis\"},{\"attributes\":{\"children\":[{\"id\":\"4d3e9bab-93f1-44ff-a00b-dd6c6b28d54f\",\"type\":\"ToolbarBox\"},{\"id\":\"5ffaf9b2-08f5-4314-997e-b1aab202eba6\",\"type\":\"Column\"}]},\"id\":\"404d6a9f-f996-43cd-8a69-21d13340b951\",\"type\":\"Column\"},{\"attributes\":{\"fill_alpha\":{\"value\":0.1},\"fill_color\":{\"value\":\"#1f77b4\"},\"line_alpha\":{\"value\":0.1},\"line_color\":{\"value\":\"#1f77b4\"},\"top\":{\"field\":\"counts\"},\"width\":{\"value\":0.925},\"x\":{\"field\":\"x\"}},\"id\":\"47113fd8-0804-40c4-be17-984d049aa5ec\",\"type\":\"VBar\"},{\"attributes\":{\"grid_line_color\":{\"value\":null},\"plot\":{\"id\":\"6e1a4e03-7860-4cd7-8c91-2d19ae6889fe\",\"subtype\":\"Figure\",\"type\":\"Plot\"},\"ticker\":{\"id\":\"504b2738-0a47-4eb5-8a54-f748323713bd\",\"type\":\"CategoricalTicker\"}},\"id\":\"081afc34-8222-40e6-a900-3949113104a4\",\"type\":\"Grid\"},{\"attributes\":{\"dimension\":1,\"plot\":{\"id\":\"6e1a4e03-7860-4cd7-8c91-2d19ae6889fe\",\"subtype\":\"Figure\",\"type\":\"Plot\"},\"ticker\":{\"id\":\"347e845e-1888-4f85-a363-43b8a2c5b5c8\",\"type\":\"BasicTicker\"}},\"id\":\"216b9cf5-cce6-45c6-8ecb-dbe87fcf65d6\",\"type\":\"Grid\"},{\"attributes\":{},\"id\":\"07c54635-3e4e-4695-b568-153b1736df9e\",\"type\":\"PanTool\"}],\"root_ids\":[\"404d6a9f-f996-43cd-8a69-21d13340b951\"]},\"title\":\"Bokeh Application\",\"version\":\"0.12.13\"}}';\n",
       "          var render_items = [{\"docid\":\"45433bf8-5661-4e1b-adc8-410b93424ff3\",\"elementid\":\"78b74362-062c-4e75-839d-df738187ef0c\",\"modelid\":\"404d6a9f-f996-43cd-8a69-21d13340b951\"}];\n",
       "          root.Bokeh.embed.embed_items(docs_json, render_items);\n",
       "        \n",
       "          }\n",
       "          if (root.Bokeh !== undefined) {\n",
       "            embed_document(root);\n",
       "          } else {\n",
       "            var attempts = 0;\n",
       "            var timer = setInterval(function(root) {\n",
       "              if (root.Bokeh !== undefined) {\n",
       "                embed_document(root);\n",
       "                clearInterval(timer);\n",
       "              }\n",
       "              attempts++;\n",
       "              if (attempts > 100) {\n",
       "                console.log(\"Bokeh: ERROR: Unable to run BokehJS code because BokehJS library is missing\")\n",
       "                clearInterval(timer);\n",
       "              }\n",
       "            }, 10, root)\n",
       "          }\n",
       "        })(window);\n",
       "      });\n",
       "    };\n",
       "    if (document.readyState != \"loading\") fn();\n",
       "    else document.addEventListener(\"DOMContentLoaded\", fn);\n",
       "  })();\n",
       "</script><div style=\"padding:5px\" id=\"pd-bkchartdiv-696abd21\">\n",
       "<div class=\"bk-root\">\n",
       "    <div class=\"bk-plotdiv\" id=\"78b74362-062c-4e75-839d-df738187ef0c\"></div>\n",
       "</div></div>\n",
       "                    \n",
       "                \n",
       "        </div>"
      ],
      "text/plain": [
       "<IPython.core.display.HTML object>"
      ]
     },
     "metadata": {},
     "output_type": "display_data"
    }
   ],
   "source": [
    "display(parquet_batch_df)"
   ]
  },
  {
   "cell_type": "code",
   "execution_count": null,
   "metadata": {},
   "outputs": [],
   "source": []
  }
 ],
 "metadata": {
  "celltoolbar": "Edit Metadata",
  "kernelspec": {
   "display_name": "Python with Pixiedust (Spark 2.3)",
   "language": "python",
   "name": "pythonwithpixiedustspark23"
  },
  "language_info": {
   "codemirror_mode": {
    "name": "ipython",
    "version": 3
   },
   "file_extension": ".py",
   "mimetype": "text/x-python",
   "name": "python",
   "nbconvert_exporter": "python",
   "pygments_lexer": "ipython3",
   "version": "3.5.4"
  }
 },
 "nbformat": 4,
 "nbformat_minor": 2
}
