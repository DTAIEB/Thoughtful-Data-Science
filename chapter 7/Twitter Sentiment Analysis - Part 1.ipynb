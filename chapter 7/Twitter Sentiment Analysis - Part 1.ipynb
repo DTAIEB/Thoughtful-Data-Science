{
 "cells": [
  {
   "cell_type": "markdown",
   "metadata": {},
   "source": [
    "# Twitter Sentiment Analysis Part 1\n",
    "## Acquiring the data with Spark Structured Streaming"
   ]
  },
  {
   "cell_type": "code",
   "execution_count": 38,
   "metadata": {},
   "outputs": [],
   "source": [
    "# uncomment and run the line below to install tweepy if needed\n",
    "# !pip install tweepy"
   ]
  },
  {
   "cell_type": "markdown",
   "metadata": {},
   "source": [
    "## Set up twitter authentication\n",
    "Make sure to fill in the tokens below before running this cell"
   ]
  },
  {
   "cell_type": "code",
   "execution_count": 3,
   "metadata": {},
   "outputs": [],
   "source": [
    "from tweepy import OAuthHandler\n",
    "\n",
    "# Go to http://apps.twitter.com and create an app.\n",
    "# The consumer key and secret will be generated for you after\n",
    "consumer_key=\"XXXXX\"\n",
    "consumer_secret=\"XXXXX\"\n",
    "\n",
    "# After the step above, you will be redirected to your app's page.\n",
    "# Create an access token under the the \"Your access token\" section\n",
    "access_token=\"XXXXX\"\n",
    "access_token_secret=\"XXXXX\"\n",
    "\n",
    "auth = OAuthHandler(consumer_key, consumer_secret)\n",
    "auth.set_access_token(access_token, access_token_secret)"
   ]
  },
  {
   "cell_type": "markdown",
   "metadata": {},
   "source": [
    "## Create the Twitter Stream"
   ]
  },
  {
   "cell_type": "code",
   "execution_count": 4,
   "metadata": {},
   "outputs": [],
   "source": [
    "from tweepy.streaming import StreamListener\n",
    "from tweepy import Stream\n",
    "from six import iteritems\n",
    "import json\n",
    "import csv\n",
    "import shutil\n",
    "from bs4 import BeautifulSoup as BS\n",
    "from pyspark.sql.types import StructType, StructField, StringType, DateType\n",
    "\n",
    "def ensure_dir(dir, delete_tree = False):\n",
    "    if not os.path.exists(dir):\n",
    "        os.makedirs(dir)\n",
    "    elif delete_tree:\n",
    "        shutil.rmtree(dir)\n",
    "        os.makedirs(dir)\n",
    "    return os.path.abspath(dir)\n",
    "\n",
    "root_dir = ensure_dir(\"output\", delete_tree = True)\n",
    "output_dir = ensure_dir(os.path.join(root_dir, \"raw\"))\n",
    "field_metadata = [\n",
    "    {\"name\": \"created_at\",\"type\": DateType()},\n",
    "    {\"name\": \"text\", \"type\": StringType()},\n",
    "    {\"name\": \"source\", \"type\": StringType(), \n",
    "         \"transform\": lambda s: BS(s, \"html.parser\").text.strip()\n",
    "    }\n",
    "]\n",
    "fieldnames = [f[\"name\"] for f in field_metadata]\n",
    "transforms = { \n",
    "    item['name']:item['transform'] for item in field_metadata if \"transform\" in item\n",
    "}\n",
    "\n",
    "class RawTweetsListener(StreamListener):\n",
    "    def __init__(self):\n",
    "        self.buffered_data = []\n",
    "        self.counter = 0\n",
    "\n",
    "    def flush_buffer_if_needed(self):\n",
    "        \"Check the buffer capacity and write to a new file if needed\"\n",
    "        length = len(self.buffered_data)\n",
    "        if length > 0 and length % 10 == 0:\n",
    "            with open(os.path.join( output_dir, \"tweets{}.csv\".format(self.counter)), \"w\") as fs:\n",
    "                self.counter += 1\n",
    "                csv_writer = csv.DictWriter( fs, fieldnames = fieldnames)\n",
    "                for data in self.buffered_data:\n",
    "                    csv_writer.writerow(data)\n",
    "            self.buffered_data = []\n",
    "\n",
    "    def on_data(self, data):\n",
    "        def transform(key, value):\n",
    "            return transforms[key](value) if key in transforms else value\n",
    "\n",
    "        self.buffered_data.append(\n",
    "            {key:transform(key,value) \\\n",
    "                 for key,value in iteritems(json.loads(data)) \\\n",
    "                 if key in fieldnames}\n",
    "        )\n",
    "        self.flush_buffer_if_needed()\n",
    "        return True\n",
    "\n",
    "    def on_error(self, status):\n",
    "        print(\"An error occured while receiving streaming data: {}\".format(status))\n",
    "        return False"
   ]
  },
  {
   "cell_type": "code",
   "execution_count": 5,
   "metadata": {},
   "outputs": [],
   "source": [
    "def start_stream(queries):\n",
    "    \"Asynchronously start a new Twitter stream\"\n",
    "    stream = Stream(auth, RawTweetsListener())\n",
    "    stream.filter(track=queries, async=True)\n",
    "    return stream"
   ]
  },
  {
   "cell_type": "markdown",
   "metadata": {},
   "source": [
    "## Start a new Twitter stream filtered by the keyword \"baseball\""
   ]
  },
  {
   "cell_type": "code",
   "execution_count": 6,
   "metadata": {},
   "outputs": [],
   "source": [
    "stream = start_stream([\"baseball\"])"
   ]
  },
  {
   "cell_type": "code",
   "execution_count": 39,
   "metadata": {},
   "outputs": [],
   "source": [
    "# uncomment this line to stop the twitter stream\n",
    "#stream.disconnect()"
   ]
  },
  {
   "cell_type": "markdown",
   "metadata": {},
   "source": [
    "## Create a Spark Streaming DataFrame"
   ]
  },
  {
   "cell_type": "code",
   "execution_count": 10,
   "metadata": {
    "pixiedust": {
     "displayParams": {}
    }
   },
   "outputs": [
    {
     "data": {
      "text/plain": [
       "True"
      ]
     },
     "execution_count": 10,
     "metadata": {},
     "output_type": "execute_result"
    }
   ],
   "source": [
    "schema = StructType(\n",
    "    [StructField(f[\"name\"], f[\"type\"], True) for f in field_metadata]\n",
    ")\n",
    "csv_sdf = spark.readStream \\\n",
    "    .csv(\n",
    "        output_dir,\n",
    "        schema=schema,\n",
    "        multiLine = True,\n",
    "        dateFormat = 'EEE MMM dd kk:mm:ss Z y',\n",
    "        ignoreTrailingWhiteSpace = True,\n",
    "        ignoreLeadingWhiteSpace = True\n",
    "    )\n",
    "csv_sdf.isStreaming"
   ]
  },
  {
   "cell_type": "code",
   "execution_count": 11,
   "metadata": {},
   "outputs": [
    {
     "name": "stdout",
     "output_type": "stream",
     "text": [
      "root\n",
      " |-- created_at: date (nullable = true)\n",
      " |-- text: string (nullable = true)\n",
      " |-- source: string (nullable = true)\n",
      "\n"
     ]
    }
   ],
   "source": [
    "csv_sdf.printSchema()"
   ]
  },
  {
   "cell_type": "markdown",
   "metadata": {},
   "source": [
    "## Create an Run Spark Structured Queries\n",
    "1. Print to console for debugging\n",
    "2. Write to parquet database"
   ]
  },
  {
   "cell_type": "code",
   "execution_count": 12,
   "metadata": {
    "pixiedust": {
     "displayParams": {}
    }
   },
   "outputs": [],
   "source": [
    "console_streaming_query = csv_sdf.writeStream\\\n",
    "  .outputMode(\"append\")\\\n",
    "  .format(\"console\")\\\n",
    "  .trigger(processingTime='2 seconds')\\\n",
    "  .start()"
   ]
  },
  {
   "cell_type": "code",
   "execution_count": 40,
   "metadata": {},
   "outputs": [],
   "source": [
    "# uncomment to stop the structured query\n",
    "#console_streaming_query.stop()"
   ]
  },
  {
   "cell_type": "code",
   "execution_count": 13,
   "metadata": {},
   "outputs": [],
   "source": [
    "tweet_streaming_query = csv_sdf \\\n",
    "  .writeStream \\\n",
    "  .format(\"parquet\") \\\n",
    "  .option(\"path\", os.path.join(root_dir, \"output_parquet\")) \\\n",
    "  .trigger(processingTime=\"2 seconds\") \\\n",
    "  .option(\"checkpointLocation\", os.path.join(root_dir, \"output_chkpt\")) \\\n",
    "  .start()"
   ]
  },
  {
   "cell_type": "code",
   "execution_count": 41,
   "metadata": {},
   "outputs": [],
   "source": [
    "# uncomment to stop the structured query\n",
    "#tweet_streaming_query.stop()"
   ]
  },
  {
   "cell_type": "markdown",
   "metadata": {},
   "source": [
    "## Monitoring the Streaming Queries"
   ]
  },
  {
   "cell_type": "code",
   "execution_count": 25,
   "metadata": {},
   "outputs": [
    {
     "name": "stdout",
     "output_type": "stream",
     "text": [
      "[<pyspark.sql.streaming.StreamingQuery object at 0x12d7db6a0>, <pyspark.sql.streaming.StreamingQuery object at 0x12d269c18>]\n"
     ]
    }
   ],
   "source": [
    "print(spark.streams.active)"
   ]
  },
  {
   "cell_type": "code",
   "execution_count": 37,
   "metadata": {},
   "outputs": [
    {
     "name": "stdout",
     "output_type": "stream",
     "text": [
      "-----------\n",
      "id: b621e268-f21d-4eef-b6cd-cb0bc66e53c4\n",
      "{\n",
      "  \"batchId\": 18,\n",
      "  \"durationMs\": {\n",
      "    \"getOffset\": 4,\n",
      "    \"triggerExecution\": 4\n",
      "  },\n",
      "  \"id\": \"b621e268-f21d-4eef-b6cd-cb0bc66e53c4\",\n",
      "  \"inputRowsPerSecond\": 0.0,\n",
      "  \"name\": null,\n",
      "  \"numInputRows\": 0,\n",
      "  \"processedRowsPerSecond\": 0.0,\n",
      "  \"runId\": \"d2459446-bfad-4648-ae3b-b30c1f21be04\",\n",
      "  \"sink\": {\n",
      "    \"description\": \"org.apache.spark.sql.execution.streaming.ConsoleSinkProvider@586d2ad5\"\n",
      "  },\n",
      "  \"sources\": [\n",
      "    {\n",
      "      \"description\": \"FileStreamSource[file:/Users/dtaieb/cdsdev/notebookdev/Pixiedust/book/Chapter7/output/raw]\",\n",
      "      \"endOffset\": {\n",
      "        \"logOffset\": 17\n",
      "      },\n",
      "      \"inputRowsPerSecond\": 0.0,\n",
      "      \"numInputRows\": 0,\n",
      "      \"processedRowsPerSecond\": 0.0,\n",
      "      \"startOffset\": {\n",
      "        \"logOffset\": 17\n",
      "      }\n",
      "    }\n",
      "  ],\n",
      "  \"stateOperators\": [],\n",
      "  \"timestamp\": \"2018-04-12T21:40:10.004Z\"\n",
      "}\n",
      "-----------\n",
      "id: 520a8dcc-2acb-4f38-a18d-ef757a20866f\n",
      "{\n",
      "  \"batchId\": 16,\n",
      "  \"durationMs\": {\n",
      "    \"getOffset\": 4,\n",
      "    \"triggerExecution\": 4\n",
      "  },\n",
      "  \"id\": \"520a8dcc-2acb-4f38-a18d-ef757a20866f\",\n",
      "  \"inputRowsPerSecond\": 0.0,\n",
      "  \"name\": null,\n",
      "  \"numInputRows\": 0,\n",
      "  \"processedRowsPerSecond\": 0.0,\n",
      "  \"runId\": \"2fddaf30-e48c-4757-9aa3-fa2f78ab29fb\",\n",
      "  \"sink\": {\n",
      "    \"description\": \"FileSink[/Users/dtaieb/cdsdev/notebookdev/Pixiedust/book/Chapter7/output/output_parquet]\"\n",
      "  },\n",
      "  \"sources\": [\n",
      "    {\n",
      "      \"description\": \"FileStreamSource[file:/Users/dtaieb/cdsdev/notebookdev/Pixiedust/book/Chapter7/output/raw]\",\n",
      "      \"endOffset\": {\n",
      "        \"logOffset\": 15\n",
      "      },\n",
      "      \"inputRowsPerSecond\": 0.0,\n",
      "      \"numInputRows\": 0,\n",
      "      \"processedRowsPerSecond\": 0.0,\n",
      "      \"startOffset\": {\n",
      "        \"logOffset\": 15\n",
      "      }\n",
      "    }\n",
      "  ],\n",
      "  \"stateOperators\": [],\n",
      "  \"timestamp\": \"2018-04-12T21:40:10.004Z\"\n",
      "}\n"
     ]
    }
   ],
   "source": [
    "import json\n",
    "for query in spark.streams.active:\n",
    "    print(\"-----------\")\n",
    "    print(\"id: {}\".format(query.id))\n",
    "    print(json.dumps(query.lastProgress, indent=2, sort_keys=True))"
   ]
  },
  {
   "cell_type": "markdown",
   "metadata": {},
   "source": [
    "## Creating a batch DataFrame from the parquet files"
   ]
  },
  {
   "cell_type": "code",
   "execution_count": 14,
   "metadata": {
    "pixiedust": {
     "displayParams": {
      "handlerId": "tableView"
     }
    }
   },
   "outputs": [],
   "source": [
    "parquet_batch_df = spark.sql(\"select * from parquet.`{}`\".format(os.path.join(root_dir, \"output_parquet\")))"
   ]
  },
  {
   "cell_type": "markdown",
   "metadata": {},
   "source": [
    "## Display the data using PixieDust"
   ]
  },
  {
   "cell_type": "code",
   "execution_count": 19,
   "metadata": {
    "pixiedust": {
     "displayParams": {
      "chartsize": "82",
      "handlerId": "barChart",
      "keyFields": "source",
      "legend": "false",
      "rendererId": "matplotlib",
      "rowCount": "10",
      "sortby": "Values DESC",
      "stretch": "true"
     }
    }
   },
   "outputs": [
    {
     "data": {
      "text/html": [
       "<style type=\"text/css\">.pd_warning{display:none;}</style><div class=\"pd_warning\"><em>Hey, there's something awesome here! To see it, open this notebook outside GitHub, in a viewer like Jupyter</em></div><img style=\"max-width:initial !important\" src=\"data:image/png;base64,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\" class=\"pd_save is-viewer-good\">"
      ],
      "text/plain": [
       "<IPython.core.display.HTML object>"
      ]
     },
     "metadata": {},
     "output_type": "display_data"
    }
   ],
   "source": [
    "import pixiedust\n",
    "display(parquet_batch_df)"
   ]
  }
 ],
 "metadata": {
  "celltoolbar": "Edit Metadata",
  "kernelspec": {
   "display_name": "Python with Pixiedust (Spark 2.3)",
   "language": "python",
   "name": "pythonwithpixiedustspark23"
  },
  "language_info": {
   "codemirror_mode": {
    "name": "ipython",
    "version": 3
   },
   "file_extension": ".py",
   "mimetype": "text/x-python",
   "name": "python",
   "nbconvert_exporter": "python",
   "pygments_lexer": "ipython3",
   "version": "3.5.4"
  }
 },
 "nbformat": 4,
 "nbformat_minor": 2
}
